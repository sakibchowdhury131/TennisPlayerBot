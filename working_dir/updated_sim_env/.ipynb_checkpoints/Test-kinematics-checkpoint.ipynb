{
 "cells": [
  {
   "cell_type": "code",
   "execution_count": 1,
   "id": "0c92e5e0-36a5-4ebf-a411-006eb2e57d86",
   "metadata": {},
   "outputs": [
    {
     "name": "stderr",
     "output_type": "stream",
     "text": [
      "pybullet build time: Feb  4 2024 12:55:26\n",
      "2024-05-30 13:35:16.585 Python[51163:2532999] WARNING: Secure coding is automatically enabled for restorable state! However, not on all supported macOS versions of this application. Opt-in to secure coding explicitly by implementing NSApplicationDelegate.applicationSupportsSecureRestorableState:.\n"
     ]
    }
   ],
   "source": [
    "from TableTennisEnvironmentV0.TableTennisEnvironment import TableTennisEnv\n",
    "import pybullet as p\n",
    "env = TableTennisEnv(show_gui=True)"
   ]
  },
  {
   "cell_type": "code",
   "execution_count": 2,
   "id": "470b4a8d-d3b6-4cc2-a26f-9dc3543857cb",
   "metadata": {},
   "outputs": [],
   "source": [
    "import time\n",
    "joint_angles = [0, 0, 0, 0, 0, 0]\n",
    "for i, angle in enumerate(joint_angles):\n",
    "    p.setJointMotorControl2(bodyIndex=env._robotic_arm,\n",
    "                            jointIndex=i,\n",
    "                            controlMode=p.POSITION_CONTROL,\n",
    "                            targetPosition=angle,\n",
    "                           )\n",
    "\n",
    "for i in range(300):\n",
    "    p.stepSimulation()\n",
    "    time.sleep(1./240.)"
   ]
  },
  {
   "cell_type": "code",
   "execution_count": 35,
   "id": "9760804d-0562-4c8c-9b44-fa1a80882746",
   "metadata": {},
   "outputs": [
    {
     "name": "stdout",
     "output_type": "stream",
     "text": [
      "7\n"
     ]
    }
   ],
   "source": [
    "def set_joint_constraints(robot_id, joint_index, lower_limit, upper_limit):\n",
    "    p.resetJointState(robot_id, joint_index, targetValue=lower_limit)\n",
    "    p.changeDynamics(robot_id, joint_index, jointLowerLimit=lower_limit, jointUpperLimit=upper_limit)\n",
    "    p.setJointMotorControl2(\n",
    "        bodyIndex=robot_id,\n",
    "        jointIndex=joint_index,\n",
    "        controlMode=p.POSITION_CONTROL,\n",
    "        targetPosition=(lower_limit + upper_limit)/2,\n",
    "        positionGain=0.1,\n",
    "        velocityGain=1.0,\n",
    "        force=500\n",
    "    )\n",
    "\n",
    "# Get the number of joints\n",
    "num_joints = p.getNumJoints(env._robotic_arm)\n",
    "print(num_joints)\n",
    "\n",
    "# Define joint constraints (example values, modify as needed)\n",
    "joint_constraints = [\n",
    "    (-1.57, 1.57),  # Joint 0 constraints\n",
    "    (-0.9, 2.3),  # Joint 1 constraints\n",
    "    (-1.0, 3.5),  # Joint 2 constraints\n",
    "    (-3.14, 3.14),  # Joint 3 constraints\n",
    "    (-1.0, 3.0),  # Joint 4 constraints\n",
    "    (-3.0, 2.0),  # Joint 5 constraints\n",
    "]\n",
    "\n",
    "# Apply constraints to each joint\n",
    "for joint_index in range(num_joints -1):\n",
    "    lower_limit, upper_limit = joint_constraints[joint_index]\n",
    "    set_joint_constraints(env._robotic_arm, joint_index, lower_limit, upper_limit)\n",
    "for i in range(300):\n",
    "    p.stepSimulation()\n",
    "    time.sleep(1./240.)"
   ]
  },
  {
   "cell_type": "code",
   "execution_count": 4,
   "id": "11e28dae-a391-43d9-9254-199592240952",
   "metadata": {},
   "outputs": [],
   "source": [
    "def calculate_joint_angles(robot_id, end_effector_pos, end_effector_orientation):\n",
    "    \"\"\"\n",
    "    Calculates the joint angles for a given end-effector position and orientation.\n",
    "    \n",
    "    Args:\n",
    "        robot_id (int): Unique ID of the robot in the PyBullet simulation.\n",
    "        end_effector_pos (tuple of float): The target position of the end-effector (x, y, z).\n",
    "        end_effector_orientation (tuple of float): The target orientation of the end-effector as a quaternion (x, y, z, w).\n",
    "\n",
    "    Returns:\n",
    "        list of float: The joint angles required to achieve the given end-effector position and orientation.\n",
    "    \"\"\"\n",
    "    # Index of the end effector link\n",
    "    end_effector_link_index = 6  # Assuming the last link is the end effector, adjust as needed\n",
    "\n",
    "    # Calculate the Inverse Kinematics\n",
    "    joint_angles = p.calculateInverseKinematics(\n",
    "        bodyUniqueId=robot_id,\n",
    "        endEffectorLinkIndex=end_effector_link_index,\n",
    "        targetPosition=end_effector_pos,\n",
    "        targetOrientation=end_effector_orientation,\n",
    "        maxNumIterations=20000,\n",
    "        residualThreshold=0.0001,\n",
    "        solver = p.IK_DLS,\n",
    "        # Additional parameters can be adjusted as needed, including joint limits, rest poses, etc.\n",
    "    )\n",
    "\n",
    "    return joint_angles\n"
   ]
  },
  {
   "cell_type": "code",
   "execution_count": 41,
   "id": "6f788108-8597-4f22-8373-3d3bdc13560c",
   "metadata": {},
   "outputs": [],
   "source": [
    "def highlight_point(point = [1, 1, 1]):\n",
    "    \n",
    "\n",
    "    # Create a visual shape (sphere) at the highlight point\n",
    "    visual_shape_id = p.createVisualShape(shapeType=p.GEOM_SPHERE,\n",
    "                                          radius=0.01,\n",
    "                                          rgbaColor=[0, 0, 1, 1])  # Blue sphere\n",
    "    \n",
    "    # Create a multi-body object using the visual shape\n",
    "    p.createMultiBody(baseMass=0,  # Zero mass makes it a static object\n",
    "                      baseCollisionShapeIndex=-1,  # No collision shape\n",
    "                      baseVisualShapeIndex=visual_shape_id,\n",
    "                      basePosition=point)\n",
    "\n",
    "\n",
    "# highlight_point([1.31, 0.15, 1.60])\n",
    "highlight_point([1.45, -0.1, 1.75])\n",
    "import time\n",
    "for i in range(300):\n",
    "    p.stepSimulation()\n",
    "    time.sleep(1./240.)"
   ]
  },
  {
   "cell_type": "code",
   "execution_count": 42,
   "id": "72b984bf-ea4b-44fe-9669-fd9c8a2e41df",
   "metadata": {},
   "outputs": [],
   "source": [
    "env.move_paddle_to_position((1.45, -0.1, 1.75))"
   ]
  },
  {
   "cell_type": "code",
   "execution_count": 43,
   "id": "59d3bab6-eca6-4e52-88d7-e8aed1ccf1fc",
   "metadata": {},
   "outputs": [
    {
     "ename": "TypeError",
     "evalue": "calculate_joint_angles() missing 1 required positional argument: 'end_effector_orientation'",
     "output_type": "error",
     "traceback": [
      "\u001b[0;31m---------------------------------------------------------------------------\u001b[0m",
      "\u001b[0;31mTypeError\u001b[0m                                 Traceback (most recent call last)",
      "Cell \u001b[0;32mIn[43], line 4\u001b[0m\n\u001b[1;32m      2\u001b[0m end_effector_pos \u001b[38;5;241m=\u001b[39m (\u001b[38;5;241m1.45\u001b[39m, \u001b[38;5;241m0.4\u001b[39m, \u001b[38;5;241m1.55\u001b[39m)  \u001b[38;5;66;03m# Adjust as needed\u001b[39;00m\n\u001b[1;32m      3\u001b[0m end_effector_orientation \u001b[38;5;241m=\u001b[39m p\u001b[38;5;241m.\u001b[39mgetQuaternionFromEuler([\u001b[38;5;241m-\u001b[39m\u001b[38;5;241m3.5\u001b[39m, \u001b[38;5;241m-\u001b[39m\u001b[38;5;241m1.4\u001b[39m, \u001b[38;5;241m0\u001b[39m])  \u001b[38;5;66;03m# No rotation\u001b[39;00m\n\u001b[0;32m----> 4\u001b[0m joint_angles \u001b[38;5;241m=\u001b[39m \u001b[43mcalculate_joint_angles\u001b[49m\u001b[43m(\u001b[49m\u001b[43menv\u001b[49m\u001b[38;5;241;43m.\u001b[39;49m\u001b[43m_robotic_arm\u001b[49m\u001b[43m,\u001b[49m\u001b[43m \u001b[49m\u001b[43mend_effector_pos\u001b[49m\u001b[43m,\u001b[49m\u001b[43m \u001b[49m\u001b[43m)\u001b[49m\n\u001b[1;32m      5\u001b[0m \u001b[38;5;28;01mfor\u001b[39;00m i, angle \u001b[38;5;129;01min\u001b[39;00m \u001b[38;5;28menumerate\u001b[39m(joint_angles):\n\u001b[1;32m      6\u001b[0m     p\u001b[38;5;241m.\u001b[39msetJointMotorControl2(bodyIndex\u001b[38;5;241m=\u001b[39menv\u001b[38;5;241m.\u001b[39m_robotic_arm,\n\u001b[1;32m      7\u001b[0m                             jointIndex\u001b[38;5;241m=\u001b[39mi,\n\u001b[1;32m      8\u001b[0m                             controlMode\u001b[38;5;241m=\u001b[39mp\u001b[38;5;241m.\u001b[39mPOSITION_CONTROL,\n\u001b[1;32m      9\u001b[0m                             targetPosition\u001b[38;5;241m=\u001b[39mangle,\n\u001b[1;32m     10\u001b[0m                            )\n",
      "\u001b[0;31mTypeError\u001b[0m: calculate_joint_angles() missing 1 required positional argument: 'end_effector_orientation'"
     ]
    }
   ],
   "source": [
    "# Desired end-effector position and orientation (example)\n",
    "end_effector_pos = (1.45, 0.4, 1.55)  # Adjust as needed\n",
    "end_effector_orientation = p.getQuaternionFromEuler([-3.5, -1.4, 0])  # No rotation\n",
    "joint_angles = calculate_joint_angles(env._robotic_arm, end_effector_pos, end_effector_orientation)\n",
    "for i, angle in enumerate(joint_angles):\n",
    "    p.setJointMotorControl2(bodyIndex=env._robotic_arm,\n",
    "                            jointIndex=i,\n",
    "                            controlMode=p.POSITION_CONTROL,\n",
    "                            targetPosition=angle,\n",
    "                           )\n",
    "\n",
    "# Step simulation to see the result\n",
    "import time\n",
    "for i in range(300):\n",
    "    p.stepSimulation()\n",
    "    time.sleep(1./240.)"
   ]
  },
  {
   "cell_type": "code",
   "execution_count": 6,
   "id": "b598816d-53d3-4091-93bd-6b47b052b4c1",
   "metadata": {},
   "outputs": [
    {
     "name": "stdout",
     "output_type": "stream",
     "text": [
      "(1.3299822546191056, 0.10801501191150813, 1.6379807937348903)\n"
     ]
    }
   ],
   "source": [
    "end_effector_link_index = 5\n",
    "state = p.getLinkState(env._robotic_arm, end_effector_link_index)\n",
    "\n",
    "# Position and orientation of the end effector\n",
    "position = state[0]\n",
    "orientation = state[1]\n",
    "\n",
    "print(position)"
   ]
  },
  {
   "cell_type": "code",
   "execution_count": 16,
   "id": "cbb03984-9c42-449f-a53b-d184100d8ec0",
   "metadata": {},
   "outputs": [],
   "source": [
    "\n",
    "\n",
    "# Specify the link index you want to highlight\n",
    "linkIndexToHighlight = 5  # For example, the 7th link\n",
    "\n",
    "# Change the color of the link to highlight it (e.g., bright red)\n",
    "p.changeVisualShape(env._robotic_arm, linkIndexToHighlight, rgbaColor=[1, 0, 0, 1])\n"
   ]
  },
  {
   "cell_type": "code",
   "execution_count": 15,
   "id": "7e6e945d-4ca2-48c3-a7b1-450b3dc39b86",
   "metadata": {},
   "outputs": [],
   "source": [
    "# [1.31, 0.15, 1.60] - [1.35, 0.0, 1.75] = [-0.04, 0.15, -0.15]\n",
    "\n",
    "# [-0.04, 0.15, -0.15] this has to be subtracted from the end effector link index for doing inverse kinematics"
   ]
  },
  {
   "cell_type": "code",
   "execution_count": 28,
   "id": "c8429c2d-df56-4e8d-95c9-651c4b889a01",
   "metadata": {},
   "outputs": [],
   "source": [
    "for i in range(3000):\n",
    "    p.stepSimulation()\n",
    "    time.sleep(1./240.)"
   ]
  },
  {
   "cell_type": "markdown",
   "id": "0d7341e6-d3a3-4b91-ac51-ae66f4d5d767",
   "metadata": {},
   "source": [
    "## Fresh Test"
   ]
  },
  {
   "cell_type": "code",
   "execution_count": 3,
   "id": "b6cb68bd-8428-4ca8-8e85-18380f223a10",
   "metadata": {},
   "outputs": [
    {
     "name": "stdout",
     "output_type": "stream",
     "text": [
      "Joint 0 Position: 0.0\n",
      "Joint 1 Position: 0.0\n",
      "Joint 2 Position: 113.44537815126056\n",
      "Joint 3 Position: 171.8869385521735\n",
      "Joint 4 Position: 171.8814255474845\n",
      "Joint 5 Position: 171.88416299502808\n",
      "Joint 6 Position: 171.8878205736685\n",
      "Joint 7 Position: 85.94736974665794\n",
      "Joint 8 Position: 0.0\n",
      "Joint 9 Position: 0.0\n",
      "Joint 10 Position: 57.29571554709308\n",
      "Joint 11 Position: 57.29267879852177\n",
      "Joint 12 Position: 57.29606917831401\n",
      "Joint 13 Position: 57.29761989825154\n",
      "Joint 14 Position: 57.29953590040656\n",
      "Joint 15 Position: 3.9961577195298754\n"
     ]
    }
   ],
   "source": [
    "robotId = env._robotic_arm\n",
    "# Get the number of joints in the robot\n",
    "numJoints = p.getNumJoints(robotId)\n",
    "\n",
    "# Initialize a list to store joint positions\n",
    "jointPositions = []\n",
    "\n",
    "# Loop through all the joints\n",
    "for jointIndex in range(numJoints):\n",
    "    # Get the state of the joint\n",
    "    jointState = p.getJointState(robotId, jointIndex)\n",
    "    # The first element in the returned tuple is the position of the joint\n",
    "    jointPosition = jointState[0]\n",
    "    # Store the joint position\n",
    "    jointPositions.append(jointPosition)\n",
    "\n",
    "# Print all the joint positions\n",
    "for index, position in enumerate(jointPositions):\n",
    "    print(f\"Joint {index} Position: {position*180.0 / 3.1416}\")"
   ]
  },
  {
   "cell_type": "code",
   "execution_count": 4,
   "id": "47badd25-da9e-4d98-8e6a-fd89a9ec4fac",
   "metadata": {},
   "outputs": [
    {
     "name": "stdout",
     "output_type": "stream",
     "text": [
      "0 b'connect_root_and_world' 4 0.0 -1.0\n",
      "1 b'j2s6s300_joint_base' 4 0.0 -1.0\n",
      "2 b'j2s6s300_joint_1' 0 0.0 -1.0\n",
      "3 b'j2s6s300_joint_2' 0 0.8203 5.46288\n",
      "4 b'j2s6s300_joint_3' 0 0.33161 5.95157\n",
      "5 b'j2s6s300_joint_4' 0 0.0 -1.0\n",
      "6 b'j2s6s300_joint_5' 0 0.5236 5.75959\n",
      "7 b'j2s6s300_joint_6' 0 0.0 -1.0\n",
      "8 b'j2s6s300_joint_end_effector' 4 0.0 -1.0\n",
      "9 b'joint_dummy1' 4 0.0 -1.0\n",
      "10 b'j2s6s300_joint_finger_1' 0 0.0 1.51\n",
      "11 b'j2s6s300_joint_finger_tip_1' 0 0.0 2.0\n",
      "12 b'j2s6s300_joint_finger_2' 0 0.0 1.51\n",
      "13 b'j2s6s300_joint_finger_tip_2' 0 0.0 2.0\n",
      "14 b'j2s6s300_joint_finger_3' 0 0.0 1.51\n",
      "15 b'j2s6s300_joint_finger_tip_3' 0 0.0 2.0\n"
     ]
    }
   ],
   "source": [
    "for joint_index in range(numJoints):\n",
    "    joint_info = p.getJointInfo(robotId, joint_index)\n",
    "    name, joint_type, lower_limit, upper_limit = \\\n",
    "        joint_info[1], joint_info[2], joint_info[8], joint_info[9]\n",
    "    print(joint_index, name, joint_type, lower_limit, upper_limit)"
   ]
  },
  {
   "cell_type": "code",
   "execution_count": 6,
   "id": "8d0d3cee-37b4-47d3-abc1-98a9ab42388c",
   "metadata": {},
   "outputs": [],
   "source": [
    "\n",
    "for i, angle in enumerate(jointPositions):\n",
    "\n",
    "    if i == 6:\n",
    "        angle = angle+0.9\n",
    "    p.setJointMotorControl2(bodyIndex=env._robotic_arm,\n",
    "                            jointIndex=i,\n",
    "                            controlMode=p.POSITION_CONTROL,\n",
    "                            targetPosition=angle,\n",
    "                           )\n",
    "\n",
    "# Step simulation to see the result\n",
    "import time\n",
    "for i in range(1000):\n",
    "    p.stepSimulation()\n",
    "    time.sleep(1./240.)"
   ]
  },
  {
   "cell_type": "code",
   "execution_count": 7,
   "id": "4c951efe-0506-4ff9-b33d-9501d1d3c1b6",
   "metadata": {},
   "outputs": [],
   "source": [
    "\n",
    "\n",
    "# Specify the link index you want to highlight\n",
    "linkIndexToHighlight = 6  # For example, the 7th link\n",
    "\n",
    "# Change the color of the link to highlight it (e.g., bright red)\n",
    "p.changeVisualShape(env._robotic_arm, linkIndexToHighlight, rgbaColor=[1, 0, 0, 1])\n"
   ]
  },
  {
   "cell_type": "code",
   "execution_count": 8,
   "id": "2652e895-f43a-4e8e-bc69-98001f6cc2e2",
   "metadata": {},
   "outputs": [
    {
     "name": "stdout",
     "output_type": "stream",
     "text": [
      "Joint Index: 0, Joint Name: connect_root_and_world, Link Name: root\n",
      "\tLink World Position: (1.7000000476837158, 0.0, 1.25)\n",
      "\tLink World Orientation: (0.0, 0.0, 0.0, 1.0)\n",
      "Joint Index: 1, Joint Name: j2s6s300_joint_base, Link Name: j2s6s300_link_base\n",
      "\tLink World Position: (1.7000000476837158, 0.0, 1.25)\n",
      "\tLink World Orientation: (0.0, 0.0, 0.0, 1.0)\n",
      "Joint Index: 2, Joint Name: j2s6s300_joint_1, Link Name: j2s6s300_link_1\n",
      "\tLink World Position: (1.7000000476837158, -1.7462298274040222e-10, 1.406749963760376)\n",
      "\tLink World Orientation: (0.836026668548584, 0.5486888289451599, 7.280004297172127e-07, -1.109234176510654e-06)\n",
      "Joint Index: 3, Joint Name: j2s6s300_joint_2, Link Name: j2s6s300_link_2\n",
      "\tLink World Position: (1.7014678716659546, -0.0006369315087795258, 1.5255000591278076)\n",
      "\tLink World Orientation: (-0.5622321963310242, -0.4288270175457001, 0.3451935648918152, 0.617125391960144)\n",
      "Joint Index: 4, Joint Name: j2s6s300_joint_3, Link Name: j2s6s300_link_3\n",
      "\tLink World Position: (1.6784483194351196, -0.05372075363993645, 1.931396722793579)\n",
      "\tLink World Orientation: (0.5912081003189087, 0.3879133462905884, 0.3880515694618225, 0.5911110639572144)\n",
      "Joint Index: 5, Joint Name: j2s6s300_joint_4, Link Name: j2s6s300_link_4\n",
      "\tLink World Position: (1.6679712533950806, -0.04923092573881149, 2.1386966705322266)\n",
      "\tLink World Orientation: (0.795081377029419, 0.6065027713775635, 0.00010027371172327548, -6.239936919882894e-05)\n",
      "Joint Index: 6, Joint Name: j2s6s300_joint_5, Link Name: j2s6s300_link_5\n",
      "\tLink World Position: (1.6679625511169434, -0.04925384372472763, 2.2424466609954834)\n",
      "\tLink World Orientation: (0.6810305118560791, 0.19022202491760254, 0.6065511703491211, 0.3634675443172455)\n",
      "Joint Index: 7, Joint Name: j2s6s300_joint_6, Link Name: j2s6s300_link_6\n",
      "\tLink World Position: (1.6490978002548218, -0.11808302998542786, 2.317751169204712)\n",
      "\tLink World Orientation: (0.09125561267137527, 0.9244377613067627, 0.3649711012840271, 0.062315717339515686)\n",
      "Joint Index: 8, Joint Name: j2s6s300_joint_end_effector, Link Name: j2s6s300_end_effector\n",
      "\tLink World Position: (1.62000572681427, -0.22422908246517181, 2.4338831901550293)\n",
      "\tLink World Orientation: (0.21400931477546692, -0.3021378219127655, 0.5891470313072205, 0.7182050943374634)\n",
      "Joint Index: 9, Joint Name: joint_dummy1, Link Name: base_link\n",
      "\tLink World Position: (1.6018229722976685, -0.29057031869888306, 2.5064659118652344)\n",
      "\tLink World Orientation: (0.21400931477546692, -0.3021378219127655, 0.5891470313072205, 0.7182050943374634)\n",
      "Joint Index: 10, Joint Name: j2s6s300_joint_finger_1, Link Name: j2s6s300_link_finger_1\n",
      "\tLink World Position: (1.629378318786621, -0.17114749550819397, 2.422295093536377)\n",
      "\tLink World Orientation: (0.5720313191413879, -0.41546228528022766, 0.6923471093177795, -0.14431467652320862)\n",
      "Joint Index: 11, Joint Name: j2s6s300_joint_finger_tip_1, Link Name: j2s6s300_link_finger_tip_1\n",
      "\tLink World Position: (1.6168328523635864, -0.1990145593881607, 2.454092264175415)\n",
      "\tLink World Orientation: (-0.30278635025024414, 0.6388654708862305, -0.5383784174919128, 0.4586065709590912)\n",
      "Joint Index: 12, Joint Name: j2s6s300_joint_finger_2, Link Name: j2s6s300_link_finger_2\n",
      "\tLink World Position: (1.6031683683395386, -0.20889532566070557, 2.381434202194214)\n",
      "\tLink World Orientation: (0.11032985150814056, -0.6698666214942932, -0.3607534170150757, 0.6395021677017212)\n",
      "Joint Index: 13, Joint Name: j2s6s300_joint_finger_tip_2, Link Name: j2s6s300_link_finger_tip_2\n",
      "\tLink World Position: (1.5952874422073364, -0.2378470003604889, 2.4137558937072754)\n",
      "\tLink World Orientation: (-0.22427046298980713, -0.6407781839370728, -0.010062679648399353, 0.7341694831848145)\n",
      "Joint Index: 14, Joint Name: j2s6s300_joint_finger_3, Link Name: j2s6s300_link_finger_3\n",
      "\tLink World Position: (1.6466009616851807, -0.21843181550502777, 2.3835980892181396)\n",
      "\tLink World Orientation: (0.22038300335407257, -0.7336956262588501, -0.23364658653736115, 0.5987748503684998)\n",
      "Joint Index: 15, Joint Name: j2s6s300_joint_finger_tip_3, Link Name: j2s6s300_link_finger_tip_3\n",
      "\tLink World Position: (1.6385565996170044, -0.24735328555107117, 2.4159061908721924)\n",
      "\tLink World Orientation: (0.19464990496635437, -0.7409382462501526, -0.21261285245418549, 0.6065622568130493)\n"
     ]
    }
   ],
   "source": [
    "# Get the number of joints (and thus links, since each joint connects two links)\n",
    "numJoints = p.getNumJoints(robotId)\n",
    "\n",
    "# Loop through all joints to get information about the links\n",
    "for jointIndex in range(numJoints):\n",
    "    # Get joint info\n",
    "    jointInfo = p.getJointInfo(robotId, jointIndex)\n",
    "    jointName = jointInfo[1].decode(\"utf-8\")\n",
    "    linkName = jointInfo[12].decode(\"utf-8\")\n",
    "    \n",
    "    # Get link state (position, orientation)\n",
    "    linkState = p.getLinkState(robotId, jointIndex)\n",
    "    linkWorldPosition = linkState[4]  # World position of the URDF link frame\n",
    "    linkWorldOrientation = linkState[5]  # World orientation of the URDF link frame\n",
    "    \n",
    "    # Print link information\n",
    "    print(f\"Joint Index: {jointIndex}, Joint Name: {jointName}, Link Name: {linkName}\")\n",
    "    print(f\"\\tLink World Position: {linkWorldPosition}\")\n",
    "    print(f\"\\tLink World Orientation: {linkWorldOrientation}\")\n",
    "\n"
   ]
  },
  {
   "cell_type": "code",
   "execution_count": 9,
   "id": "e6a70834-0200-44f6-b19d-cfb67efb2ce0",
   "metadata": {},
   "outputs": [
    {
     "name": "stdout",
     "output_type": "stream",
     "text": [
      "Link 0: Position = (1.7000000476837158, 0.0, 1.25), Orientation = (0.0, 0.0, 0.0, 1.0)\n",
      "Link 1: Position = (1.7000000476837158, 0.0, 1.25), Orientation = (0.0, 0.0, 0.0, 1.0)\n",
      "Link 2: Position = (1.7000000476837158, -1.7462298274040222e-10, 1.406749963760376), Orientation = (0.836026668548584, 0.5486888289451599, 7.280004297172127e-07, -1.109234176510654e-06)\n",
      "Link 3: Position = (1.7014678716659546, -0.0006369315087795258, 1.5255000591278076), Orientation = (-0.5622321963310242, -0.4288270175457001, 0.3451935648918152, 0.617125391960144)\n",
      "Link 4: Position = (1.6784483194351196, -0.05372075363993645, 1.931396722793579), Orientation = (0.5912081003189087, 0.3879133462905884, 0.3880515694618225, 0.5911110639572144)\n",
      "Link 5: Position = (1.6679712533950806, -0.04923092573881149, 2.1386966705322266), Orientation = (0.795081377029419, 0.6065027713775635, 0.00010027371172327548, -6.239936919882894e-05)\n",
      "Link 6: Position = (1.6679625511169434, -0.04925384372472763, 2.2424466609954834), Orientation = (0.6810305118560791, 0.19022202491760254, 0.6065511703491211, 0.3634675443172455)\n",
      "Link 7: Position = (1.6490978002548218, -0.11808302998542786, 2.317751169204712), Orientation = (0.09125561267137527, 0.9244377613067627, 0.3649711012840271, 0.062315717339515686)\n",
      "Link 8: Position = (1.62000572681427, -0.22422908246517181, 2.4338831901550293), Orientation = (0.21400931477546692, -0.3021378219127655, 0.5891470313072205, 0.7182050943374634)\n",
      "Link 9: Position = (1.6018229722976685, -0.29057031869888306, 2.5064659118652344), Orientation = (0.21400931477546692, -0.3021378219127655, 0.5891470313072205, 0.7182050943374634)\n",
      "Link 10: Position = (1.629378318786621, -0.17114749550819397, 2.422295093536377), Orientation = (0.5720313191413879, -0.41546228528022766, 0.6923471093177795, -0.14431467652320862)\n",
      "Link 11: Position = (1.6168328523635864, -0.1990145593881607, 2.454092264175415), Orientation = (-0.30278635025024414, 0.6388654708862305, -0.5383784174919128, 0.4586065709590912)\n",
      "Link 12: Position = (1.6031683683395386, -0.20889532566070557, 2.381434202194214), Orientation = (0.11032985150814056, -0.6698666214942932, -0.3607534170150757, 0.6395021677017212)\n",
      "Link 13: Position = (1.5952874422073364, -0.2378470003604889, 2.4137558937072754), Orientation = (-0.22427046298980713, -0.6407781839370728, -0.010062679648399353, 0.7341694831848145)\n",
      "Link 14: Position = (1.6466009616851807, -0.21843181550502777, 2.3835980892181396), Orientation = (0.22038300335407257, -0.7336956262588501, -0.23364658653736115, 0.5987748503684998)\n",
      "Link 15: Position = (1.6385565996170044, -0.24735328555107117, 2.4159061908721924), Orientation = (0.19464990496635437, -0.7409382462501526, -0.21261285245418549, 0.6065622568130493)\n"
     ]
    }
   ],
   "source": [
    "# Determine the number of joints in the robot\n",
    "numJoints = p.getNumJoints(robotId)\n",
    "\n",
    "# Loop through all the joints to get link information\n",
    "for jointIndex in range(numJoints):\n",
    "    # Get the state of the link\n",
    "    linkState = p.getLinkState(robotId, jointIndex)\n",
    "    \n",
    "    # The world position and orientation of the link\n",
    "    linkWorldPosition = linkState[4]  # World position of the URDF link frame\n",
    "    linkWorldOrientation = linkState[5]  # World orientation of the URDF link frame in quaternion (x, y, z, w)\n",
    "    p.addUserDebugText(str(jointIndex),  # Text to display\n",
    "                   linkWorldPosition, \n",
    "                   [1, 0, 0],  # Red color\n",
    "                   textSize=2,  # Text size\n",
    "                   lifeTime=0)  # Infinite lifetime (until reset or removed)\n",
    "    # Print the information\n",
    "    print(f\"Link {jointIndex}: Position = {linkWorldPosition}, Orientation = {linkWorldOrientation}\")\n"
   ]
  },
  {
   "cell_type": "code",
   "execution_count": 12,
   "id": "8147caf4-b7e5-46b3-a55d-0b53ecc496c7",
   "metadata": {},
   "outputs": [
    {
     "data": {
      "text/plain": [
       "18"
      ]
     },
     "execution_count": 12,
     "metadata": {},
     "output_type": "execute_result"
    }
   ],
   "source": [
    "# Draw a text marker at the point\n",
    "point_to_highlight = [1.3, 0.0, 1.8]\n",
    "p.addUserDebugText('X',  # Text to display\n",
    "                   point_to_highlight, \n",
    "                   [1, 0, 0],  # Red color\n",
    "                   textSize=2,  # Text size\n",
    "                   lifeTime=0)  # Infinite lifetime (until reset or removed)\n"
   ]
  },
  {
   "cell_type": "code",
   "execution_count": 12,
   "id": "66842ce6-e34e-4b43-8c41-e74b0c00ee96",
   "metadata": {},
   "outputs": [],
   "source": [
    "for i in range(1000):\n",
    "    p.stepSimulation()\n",
    "    time.sleep(1./240.)"
   ]
  },
  {
   "cell_type": "code",
   "execution_count": 21,
   "id": "4a66a3d4-b3aa-4991-970f-585c86abd000",
   "metadata": {},
   "outputs": [],
   "source": [
    "\n",
    "def calculate_joint_angles(robot_id, end_effector_pos, end_effector_orientation):\n",
    "    \"\"\"\n",
    "    Calculates the joint angles for a given end-effector position and orientation.\n",
    "\n",
    "    Args:\n",
    "        robot_id (int): Unique ID of the robot in the PyBullet simulation.\n",
    "        end_effector_pos (tuple of float): The target position of the end-effector (x, y, z).\n",
    "        end_effector_orientation (tuple of float): The target orientation of the end-effector as a quaternion (x, y, z, w).\n",
    "\n",
    "    Returns:\n",
    "        list of float: The joint angles required to achieve the given end-effector position and orientation.\n",
    "    \"\"\"\n",
    "    # Index of the end effector link\n",
    "    end_effector_link_index = 5  # Assuming the last link is the end effector, adjust as needed\n",
    "\n",
    "    # Calculate the Inverse Kinematics\n",
    "    joint_angles = p.calculateInverseKinematics(\n",
    "        bodyUniqueId=robot_id,\n",
    "        endEffectorLinkIndex=end_effector_link_index,\n",
    "        targetPosition=end_effector_pos,\n",
    "        targetOrientation=end_effector_orientation,\n",
    "        maxNumIterations=20000,\n",
    "        residualThreshold=0.0001,\n",
    "        solver = p.IK_DLS,\n",
    "        # Additional parameters can be adjusted as needed, including joint limits, rest poses, etc.\n",
    "    )\n",
    "\n",
    "    return joint_angles"
   ]
  },
  {
   "cell_type": "code",
   "execution_count": 22,
   "id": "6667f80b-3ebc-4b4c-91b8-1cba1d46041b",
   "metadata": {},
   "outputs": [],
   "source": [
    "# Desired end-effector position and orientation (example)\n",
    "end_effector_pos = (1.3, 0, 1.8)  # Adjust as needed\n",
    "end_effector_orientation = p.getQuaternionFromEuler([0, 0, 0])  # No rotation\n",
    "joint_angles = calculate_joint_angles(env._robotic_arm, end_effector_pos, end_effector_orientation)\n",
    "for i, angle in enumerate(joint_angles):\n",
    "    p.setJointMotorControl2(bodyIndex=env._robotic_arm,\n",
    "                            jointIndex=i,\n",
    "                            controlMode=p.POSITION_CONTROL,\n",
    "                            targetPosition=angle,\n",
    "                           )"
   ]
  },
  {
   "cell_type": "code",
   "execution_count": 6,
   "id": "28d59c09-7ffe-4d08-b2a2-cb1170585551",
   "metadata": {},
   "outputs": [
    {
     "ename": "NameError",
     "evalue": "name 'time' is not defined",
     "output_type": "error",
     "traceback": [
      "\u001b[0;31m---------------------------------------------------------------------------\u001b[0m",
      "\u001b[0;31mNameError\u001b[0m                                 Traceback (most recent call last)",
      "Cell \u001b[0;32mIn[6], line 3\u001b[0m\n\u001b[1;32m      1\u001b[0m \u001b[38;5;28;01mfor\u001b[39;00m i \u001b[38;5;129;01min\u001b[39;00m \u001b[38;5;28mrange\u001b[39m(\u001b[38;5;241m200\u001b[39m):\n\u001b[1;32m      2\u001b[0m     p\u001b[38;5;241m.\u001b[39mstepSimulation()\n\u001b[0;32m----> 3\u001b[0m     \u001b[43mtime\u001b[49m\u001b[38;5;241m.\u001b[39msleep(\u001b[38;5;241m1.\u001b[39m\u001b[38;5;241m/\u001b[39m\u001b[38;5;241m240.\u001b[39m)\n",
      "\u001b[0;31mNameError\u001b[0m: name 'time' is not defined"
     ]
    }
   ],
   "source": [
    "for i in range(200):\n",
    "    p.stepSimulation()\n",
    "    time.sleep(1./240.)"
   ]
  },
  {
   "cell_type": "markdown",
   "id": "a3a56b14-89b7-436a-be6a-c3c2ad8ecea1",
   "metadata": {},
   "source": [
    "## Make ROS node to copy the moveit joint velocities in the real robot. "
   ]
  },
  {
   "cell_type": "code",
   "execution_count": 2,
   "id": "fa5cdbaf-0e62-42a0-9edc-e9429179b3cb",
   "metadata": {},
   "outputs": [],
   "source": [
    "import rospy\n",
    "from sensor_msgs.msg import JointState"
   ]
  },
  {
   "cell_type": "code",
   "execution_count": 3,
   "id": "40146075-4bb5-4310-84b7-351f1521da08",
   "metadata": {},
   "outputs": [],
   "source": [
    "def joint_state_callback(data):\n",
    "    joint_names = data.name\n",
    "    joint_positions = data.position\n",
    "    print(joint_positions)\n",
    "    for i, angle in enumerate(joint_positions):\n",
    "        p.setJointMotorControl2(bodyIndex=env._robotic_arm,\n",
    "                                jointIndex=i+2,\n",
    "                                controlMode=p.POSITION_CONTROL,\n",
    "                                targetPosition=angle,\n",
    "                               )\n",
    "    p.stepSimulation()"
   ]
  },
  {
   "cell_type": "code",
   "execution_count": null,
   "id": "dbde03e5-3f6f-4144-b31e-790066dab601",
   "metadata": {},
   "outputs": [
    {
     "name": "stdout",
     "output_type": "stream",
     "text": [
      "(1.735426750134549, 3.094134615844096, 2.412292058652138, -2.919831556827642, 2.3469325064352953, 3.001666999002008)\n",
      "(1.7354267504308438, 3.094134614727467, 2.412292058423665, -2.9198315577887612, 2.3469325058508104, 3.001666999120933)\n",
      "(1.7354267931273097, 3.0941344538197173, 2.41229202550037, -2.9198316962873614, 2.3469324216257372, 3.0016670162581787)\n",
      "(1.7354670943470327, 3.093982572898994, 2.412260949182754, -2.9199624251984266, 2.346852921529138, 3.001683192114599)\n",
      "(1.7354670878657095, 3.093982588490473, 2.41226099014015, -2.9199624210215123, 2.346852896601223, 3.001683197402019)\n",
      "(1.7354660858278967, 3.093984998993851, 2.4122673223131565, -2.9199617752542952, 2.3468490426484485, 3.001684014857697)\n",
      "(1.7312522702396886, 3.1041217588831165, 2.4388956680482465, -2.917246165194116, 2.3306422228374912, 3.005121617145302)\n",
      "(1.7270459585506752, 3.1142404673833783, 2.465476594427188, -2.9145353910513423, 2.314464263886623, 3.0085530978026416)\n",
      "(1.722836613391989, 3.1243664732019645, 2.4920766901972753, -2.911822661977084, 2.298274637862205, 3.0119870531440456)\n",
      "(1.7186263922866862, 3.134494586198794, 2.5186823213328453, -2.909109368395577, 2.2820816428462676, 3.0154217230767815)\n",
      "(1.7144177074654054, 3.144619003508917, 2.545278244235762, -2.9063970648783624, 2.2658945565555233, 3.018855139719392)\n",
      "(1.7061761059228966, 3.1644450101745143, 2.5973593594841153, -2.9010857322886174, 2.2341964083197707, 3.025578582576108)\n",
      "(1.6961093226344761, 3.188661676261551, 2.6609743374614205, -2.8945981541306702, 2.195478400989801, 3.0337909963699006)\n",
      "(1.6846911963461892, 3.2161291347078977, 2.733128851128859, -2.8872396976515504, 2.1515629729272, 3.043105826653081)\n",
      "(1.6717170447018428, 3.247339769637839, 2.815116348771597, -2.878878454500267, 2.1016628922287532, 3.0536900519089625)\n",
      "(1.6570871241026461, 3.2825335243735885, 2.9075671396610923, -2.869450144521545, 2.045394533531876, 3.0656250422915545)\n",
      "(1.6418788178210748, 3.3191186444082916, 3.003672920569988, -2.859649091610712, 1.9869016369217316, 3.0780318758061553)\n",
      "(1.6266786433736975, 3.3556842024927955, 3.099727314015944, -2.8498532792924687, 1.9284400162819644, 3.090432075425361)\n",
      "(1.6132596225706908, 3.387965015210321, 3.184526071315329, -2.8412053384588996, 1.8768289175897472, 3.101379221935266)\n",
      "(1.600520837902857, 3.4186094510561236, 3.265026215490881, -2.8329957784830833, 1.827834085376419, 3.111771436401888)\n",
      "(1.5904500333794027, 3.442835790631035, 3.328666604840498, -2.8265056088243727, 1.7891006119136181, 3.119987130692053)\n",
      "(1.5803833356055, 3.4670522510042447, 3.392281042426301, -2.8200180857765935, 1.7503829334823262, 3.12819947472368)\n",
      "(1.5753376767176483, 3.479190094143944, 3.4241660517520596, -2.8167663910241165, 1.7309767485861949, 3.1323156891550594)\n",
      "(1.5711265922416702, 3.4893202840663173, 3.4507771387820214, -2.814052541039976, 1.7147804329472571, 3.135751063419759)\n",
      "(1.5669184423320626, 3.4994434145922706, 3.477369681420028, -2.8113405822486963, 1.6985954039883822, 3.1391840436850402)\n",
      "(1.5627100121683573, 3.5095672192978205, 3.503963995066482, -2.8086284428465595, 1.6824092971399875, 3.1426172525797207)\n",
      "(1.5585011228828696, 3.519692128467288, 3.5305612100391346, -2.8059160075615805, 1.666221424456367, 3.1460508360228494)\n",
      "(1.556581191241816, 3.5243107183513884, 3.542693825350725, -2.8046787000500957, 1.6588371463586293, 3.147617103284236)\n",
      "(1.5565811668954022, 3.524310708414814, 3.5426938229769944, -2.804678706112349, 1.658837178754403, -3.1355682330123438)\n",
      "(1.5565782676147233, 3.5243095251227796, 3.5426935403024484, -2.8046794280328005, 1.6588410365891295, -3.1355717003952095)\n",
      "(1.539413240608504, 3.5173039116679177, 3.541019981667203, -2.8089535171670033, 1.6816811285312212, -3.156100144214548)\n",
      "(1.5222753866003718, 3.510309388409473, 3.5393490723494088, -2.813220840228783, 1.7044850635960507, -3.176596090597999)\n",
      "(1.5051225216565385, 3.503308738693256, 3.5376766994929287, -2.8174919010112864, 1.727308972480405, -3.197109989248586)\n",
      "(1.4879847261140902, 3.4963142392965842, 3.536005795875431, -2.8217592095151196, 1.7501128297497501, -3.2176058657102415)\n",
      "(1.4626688641407, 3.485982001357317, 3.533537545787686, -2.8280628553261185, 1.783798568482117, -3.2478822672603562)\n",
      "(1.4212617827581855, 3.469082406247167, 3.5295004313349736, -2.83837321234169, 1.8388955715621365, -3.2974028968274243)\n",
      "(1.3750468126168072, 3.45022055321768, 3.524994556550758, -2.8498807329326676, 1.9003900374169018, -3.3526735012847273)\n",
      "(1.3217012081317367, 3.4284484532144033, 3.519793458002761, -2.863163780399153, 1.9713726528653939, -3.416471958711192)\n",
      "(1.2591958922587931, 3.4029379729966194, 3.513699304402537, -2.8787275946189412, 2.0545433441139553, -3.491224935496069)\n",
      "(1.1900802629258334, 3.3747296059127345, 3.5069606573699, -2.8959373758927223, 2.146509836682148, -3.573883489618109)\n",
      "(1.1162806628787922, 3.3446095559491864, 3.499765331787737, -2.9143134651674587, 2.244708904458345, -3.6621438193517224)\n",
      "(1.0411315700433321, 3.3139387334856965, 3.492438433135025, -2.9330255779428622, 2.3447036314753635, -3.7520180694643503)\n",
      "(0.9659735069391487, 3.2832642499597893, 3.485110659897573, -2.951739924313824, 2.444710294492385, -3.8419030475331564)\n",
      "(0.8908265108739414, 3.2525942832573698, 3.477783965676113, -2.970451514993751, 2.5447022315094032, -3.9317747900219793)\n",
      "(0.8156683868957829, 3.2219197748867865, 3.4704561865035597, -2.9891658765223235, 2.644708975526424, -4.021659840892767)\n",
      "(0.7405159392279181, 3.1912475832055827, 3.463128960760845, -3.007878824650489, 2.744708166543444, -4.1115381032034835)\n",
      "(0.6653613181336839, 3.1605745044774194, 3.4558015231130463, -3.0265923139614928, 2.8447102495604644, -4.201418964814573)\n",
      "(0.5902079663745595, 3.1299019438067646, 3.4484742092230922, -3.045305487208246, 2.944710643577485, -4.291298308369532)\n",
      "(0.5150553841827252, 3.099229697221894, 3.441146970364537, -3.06401846883286, 3.0447100135945044, -4.38117673156364)\n",
      "(0.43990194374299524, 3.06855710035776, 3.4338196478283862, -3.0827316641610705, 3.1447105256115244, -4.471056181175806)\n",
      "(0.36474896248843536, 3.0378846909022332, 3.4264923700619474, -3.101444745152243, 3.2447104266285445, -4.560935081627346)\n",
      "(0.28959654638485405, 3.0072125121034543, 3.4191651473966918, -3.120157685420907, 3.344709575645564, -4.650813306188887)\n",
      "(0.2144427512227014, 2.976539770465405, 3.4118377902757557, -3.1388709690749472, 3.4447105596625844, -4.740693180029883)\n",
      "(0.13929418671322244, 2.9458691636291667, 3.4045109431338574, -3.157582950297261, 3.5447045836796027, -4.830566798293216)\n",
      "(0.06414198404431914, 2.9151970719401166, 3.3971837412780914, -3.1762958374207226, 3.6447034486966228, -4.920444767598426)\n",
      "(-0.011010456108239995, 2.884524883326157, 3.3898565162681042, -3.1950087836775785, 3.7447026297136428, -5.010323020921243)\n",
      "(-0.086166767394696, 2.853851114774822, 3.382528913829666, -3.21372269384619, 3.844706961730663, -5.100205903910806)\n",
      "(-0.16131486670676046, 2.823180697800986, 3.375202112043662, -3.2324345592344184, 3.944700366747682, -5.190078965823194)\n",
      "(-0.23647000109636496, 2.792507409580059, 3.367874624350507, -3.251148176355892, 4.0447031327647025, -5.279960441307781)\n",
      "(-0.3116659856809019, 2.7618174490477423, 3.3605431538383064, -3.2698719651697385, 4.144760254781732, -5.369890771415865)\n",
      "(-0.38682100057714786, 2.731144209595994, 3.353215677795535, -3.288585552537384, 4.244762861798753, -5.459772103992861)\n",
      "(-0.4610308146609074, 2.7008567377592403, 3.345980357097535, -3.3070637850453592, 4.343507767709151, -5.548523027525343)\n",
      "(-0.5314111182926778, 2.6721322153975016, 3.3391184066414445, -3.3245884700286936, 4.437157058518859, -5.632694063700775)\n",
      "(-0.5948396471142282, 2.6462449415369163, 3.3329342414728287, -3.3403821641333646, 4.521556193429098, -5.7085511532343185)\n",
      "(-0.6495150975234072, 2.623930087566783, 3.3276034853875016, -3.353996343034268, 4.594308325649363, -5.773940034452808)\n",
      "(-0.6983865947844675, 2.603984018233639, 3.32283860408385, -3.366165338477155, 4.6593376140032845, -5.832387701650017)\n",
      "(-0.7398347043502388, 2.5870676781691957, 3.3187974894585563, -3.376485911504165, 4.714489209917761, -5.881957398704989)\n",
      "(-0.7702456133082383, 2.574655983571014, 3.315832481639234, -3.384058223245447, 4.754954509296061, -5.918327200850543)\n",
      "(-0.7873910884296863, 2.567658349884956, 3.3141608292768763, -3.3883274439632918, 4.777768585150578, -5.938832261673284)\n",
      "(-0.8045357803510077, 2.5606610358486916, 3.3124892532750936, -3.3925964696644235, 4.800581618864998, -5.959336385831037)\n",
      "(-0.8216806245231417, 2.5536636596738513, 3.310817662429136, -3.3968655332759847, 4.823394855167072, -5.979840692072526)\n",
      "(-0.8388267808298137, 2.5466657479736448, 3.309145943652469, -3.401134923608848, 4.84620983741883, -6.0003465675559475)\n",
      "(-0.8424254619649124, 2.5451970075533312, 3.3087950788453844, -3.4020309946684164, 4.850998306901934, -6.004650395535876)\n",
      "(-0.8424254422269757, 2.545197020513815, 3.3087950598374647, -3.4020310263144053, 4.850998298897173, -6.0046504060471895)\n",
      "(-0.8424209573447917, 2.5451999654134436, 3.3087907408308252, -3.402038216961238, 4.850996480044068, -6.004652794442833)\n",
      "(-0.828313060231829, 2.554463606968585, 3.295204631140195, -3.424657519214326, 4.845274993632368, -6.012165865830749)\n",
      "(-0.8142075106644715, 2.563725707059336, 3.281620782170056, -3.447273057629107, 4.839554459272571, -6.019677687048098)\n",
      "(-0.8001087034353205, 2.5729833799414186, 3.2680434261694726, -3.4698777860000822, 4.833836659281766, -6.027185917675875)\n",
      "(-0.7860102633317928, 2.5822408117585036, 3.254466423716193, -3.4924819257556625, 4.828119008179506, -6.034693952793223)\n",
      "(-0.7656331619150868, 2.5956209889702926, 3.2348429792859035, -3.525152692511029, 4.819855033192165, -6.045545649286092)\n",
      "(-0.7335882141260787, 2.6166626018764307, 3.2039832294446633, -3.5765306090013618, 4.806859139341339, -6.062610983576035)\n",
      "(-0.6984105540030622, 2.639761241703396, 3.1701066321556257, -3.6329312277830095, 4.7925927676221765, -6.081344624007904)\n",
      "(-0.6560385095641161, 2.6675839163726245, 3.129301738346552, -3.7008666594473913, 4.775408698688854, -6.103909588309296)\n",
      "(-0.6074694281784456, 2.699475739584599, 3.08252900801011, -3.7787378491236976, 4.755711408798532, -6.1297747454460545)\n",
      "(-0.5539072490753043, 2.734646171021037, 3.030947852098799, -3.8646145115892048, 4.733989157958038, -6.15829894519546)\n",
      "(-0.4952272047628659, 2.773177136521966, 2.974438117707036, -3.9586966875435574, 4.710191346456913, -6.189548631696242)\n",
      "(-0.43282194727121814, 2.814154181642868, 2.9143409489536194, -4.058751527048192, 4.684882767162765, -6.2227821569170345)\n",
      "(-0.37048492077733836, 2.8550864243739307, 2.854309487641401, -4.158696971258179, 4.659601859088747, -6.255979346151463)\n",
      "(-0.3081116959950541, 2.8960424359180204, 2.7942431668520444, -4.258700452468286, 4.634306270725133, -6.2891958125554615)\n",
      "(-0.24573698871450303, 2.9369994209121173, 2.7341754183953393, -4.35870631057951, 4.609010081131325, -6.322413068454536)\n",
      "(-0.18337031283117328, 2.9779511322651855, 2.6741154042907302, -4.458699291888486, 4.583717148687021, -6.3556260472838115)\n",
      "(-0.12096962919252136, 3.018925174065724, 2.6140226402241367, -4.558746798098686, 4.558410424328273, -6.388857136728117)\n",
      "(-0.058595330380693374, 3.059881890847783, 2.55395528512874, -4.658752001308798, 4.533114400389789, -6.422074175099755)\n",
      "(0.0037405740579313645, 3.100813396805845, 2.493924904372019, -4.758695646518781, 4.5078339473675655, -6.455270766790754)\n",
      "(0.06611297990828119, 3.1417688706162217, 2.433859372226001, -4.858697814728886, 4.482538691123465, -6.48848679707773)\n",
      "(0.1284815201221382, 3.182721806141086, 2.373797562744035, -4.958693785133639, 4.457245002596118, -6.521700768744438)\n",
      "(0.1908524314406307, 3.2236762985998615, 2.3137334698538887, -5.05869355714908, 4.431950352462456, -6.554916003127923)\n",
      "(0.2532225595001014, 3.2646302767487603, 2.253670131253549, -5.158692073359178, 4.406656019981086, -6.588130820391771)\n",
      "(0.31559388009411793, 3.305585037949342, 2.193605644225133, -5.258692501569279, 4.381361203864902, -6.6213462727323495)\n",
      "(0.37796589512138257, 3.346540255134302, 2.1335404884474194, -5.3586940431696615, 4.356066106119899, -6.654562094888963)\n",
      "(0.4403451397143436, 3.387500219455187, 2.0734683704930057, -5.458707175989511, 4.330768076409802, -6.687781767105067)\n",
      "(0.5027179821620689, 3.4284559799476653, 2.0134024178973786, -5.558710044199619, 4.305472643102746, -6.720998029899213)\n",
      "(0.5651140989921729, 3.469427023053423, 1.9533140517337022, -5.658750228409804, 4.280167770822507, -6.754226687318506)\n",
      "(0.6256594949228479, 3.50918283082725, 1.895007956658697, -5.755823137265264, 4.255613462172917, -6.786469755026931)\n",
      "(0.6817836084146209, 3.5460355003516217, 1.8409596207456147, -5.845807369259032, 4.232852213622499, -6.816358296733102)\n",
      "(0.7331048207914331, 3.5797344500836292, 1.7915365483185517, -5.928091072170321, 4.212038791402677, -6.843689083824473)\n",
      "(0.7766767648284578, 3.608345012535832, 1.7495761337804343, -5.997950312285033, 4.194368100743179, -6.86689304706855)\n",
      "(0.8146122545696138, 3.6332545207613993, 1.7130437065402635, -6.05877258095509, 4.17898328560473, -6.8870953522228)\n",
      "(0.8476079750569362, 3.6549204377297997, 1.6812683487904367, -6.111674878780568, 4.165601803949396, -6.904667014500459)\n",
      "(0.8702968365261391, 3.669818581532665, 1.6594186458752607, -6.148052108586051, 4.156400289963749, -6.916749824189511)\n",
      "(0.8843951463592843, 3.679075927810558, 1.6458417688742504, -6.170656039478104, 4.150682691692908, -6.92425778993219)\n",
      "(0.8984925922347411, 3.6883327067895624, 1.632265723877034, -6.193258585180009, 4.144965443801868, -6.931765295579666)\n",
      "(0.9125920967770004, 3.6975908375470206, 1.618687696353806, -6.215864431558567, 4.139247361014312, -6.939273897557128)\n",
      "(0.9266995270877589, 3.7068541725867217, 1.6051020362004735, -6.238482985384016, 4.133526063915197, -6.946786720352482)\n",
      "(0.9281849961709323, 3.707829573315659, 1.6036715079123498, -6.240864649632831, 4.132923628902642, -6.947577797518488)\n"
     ]
    }
   ],
   "source": [
    "def listener():\n",
    "    rospy.init_node('joint_state_listener', anonymous = True)\n",
    "    rospy.Subscriber(\"/move_group/fake_controller_joint_states\", JointState, joint_state_callback)\n",
    "    while True:\n",
    "        continue\n",
    "\n",
    "\n",
    "listener()\n",
    "    "
   ]
  },
  {
   "cell_type": "code",
   "execution_count": null,
   "id": "7b0eeaf6-44b1-4145-83d3-8720443c74d4",
   "metadata": {},
   "outputs": [],
   "source": []
  },
  {
   "cell_type": "code",
   "execution_count": null,
   "id": "e102e322-5f34-4a81-970f-7ee709ea93cc",
   "metadata": {},
   "outputs": [],
   "source": []
  }
 ],
 "metadata": {
  "kernelspec": {
   "display_name": "Python 3 (ipykernel)",
   "language": "python",
   "name": "python3"
  },
  "language_info": {
   "codemirror_mode": {
    "name": "ipython",
    "version": 3
   },
   "file_extension": ".py",
   "mimetype": "text/x-python",
   "name": "python",
   "nbconvert_exporter": "python",
   "pygments_lexer": "ipython3",
   "version": "3.9.6"
  }
 },
 "nbformat": 4,
 "nbformat_minor": 5
}
