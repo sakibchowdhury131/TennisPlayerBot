{
 "cells": [
  {
   "cell_type": "markdown",
   "id": "f9eea260-8d4d-4767-8b7a-2d69571bbd4a",
   "metadata": {
    "jp-MarkdownHeadingCollapsed": true
   },
   "source": [
    "# initialization"
   ]
  },
  {
   "cell_type": "markdown",
   "id": "8246a416-6497-4720-a55d-259fe5b9ec49",
   "metadata": {},
   "source": [
    "import the packages and start the GUI"
   ]
  },
  {
   "cell_type": "code",
   "execution_count": 1,
   "id": "bd8afa62-bd8d-4942-a1d0-6b89b4344319",
   "metadata": {},
   "outputs": [
    {
     "name": "stderr",
     "output_type": "stream",
     "text": [
      "pybullet build time: Nov 28 2023 23:51:11\n",
      "/home/n3r0/.local/lib/python3.8/site-packages/sklearn/base.py:348: InconsistentVersionWarning: Trying to unpickle estimator MinMaxScaler from version 1.2.2 when using version 1.3.2. This might lead to breaking code or invalid results. Use at your own risk. For more info please refer to:\n",
      "https://scikit-learn.org/stable/model_persistence.html#security-maintainability-limitations\n",
      "  warnings.warn(\n"
     ]
    },
    {
     "name": "stdout",
     "output_type": "stream",
     "text": [
      "Predicted Output: [-0.2558609 -1.5050874]\n"
     ]
    }
   ],
   "source": [
    "from TableTennisEnvironmentV0.TableTennisEnvironment import TableTennisEnv\n",
    "from utils.BotPluginMoveIt import BotPluginMoveIt\n",
    "import pybullet as p\n",
    "import numpy as np\n",
    "import time\n",
    "import joblib\n",
    "from utils.physics_solvers import estimateInitVelocity, estimate_hitting_point, calculate_delta, had_double_bounce, had_no_bounce\n",
    "import math\n",
    "import torch\n",
    "import torch.nn as nn\n",
    "from delta_estimator_mlp.DeltaEstimatorMLP import DeltaEstimatorMLP\n",
    "\n",
    "env = TableTennisEnv(show_gui=True)"
   ]
  },
  {
   "cell_type": "markdown",
   "id": "1be5a75a-9a45-4de8-9e9a-e08bbe869a4b",
   "metadata": {
    "jp-MarkdownHeadingCollapsed": true
   },
   "source": [
    "# MoveIt Plugin Test"
   ]
  },
  {
   "cell_type": "markdown",
   "id": "05735ccd-a52b-4070-9fa1-a02cacad54ff",
   "metadata": {},
   "source": [
    "moveit plugin allows pybullet to communicate with MOVEIT. Currently it provides 2 functions: plan_motion, execute_plan"
   ]
  },
  {
   "cell_type": "code",
   "execution_count": 2,
   "id": "6e279e6b-d8a9-4183-9f36-dd765b08e2d0",
   "metadata": {},
   "outputs": [
    {
     "name": "stderr",
     "output_type": "stream",
     "text": [
      "\u001b[31m[ERROR] [1718039389.863988986]: Group 'paddle_group' for end-effector 'paddle' cannot be its own parent\u001b[0m\n",
      "\u001b[33m[ WARN] [1718039390.080344793]: The root link base_link has an inertia specified in the URDF, but KDL does not support a root link with an inertia.  As a workaround, you can add an extra dummy link to your URDF.\u001b[0m\n",
      "\u001b[33m[ WARN] [1718039390.187880410]: The root link base_link has an inertia specified in the URDF, but KDL does not support a root link with an inertia.  As a workaround, you can add an extra dummy link to your URDF.\u001b[0m\n",
      "\u001b[33m[ WARN] [1718039390.304426842]: The root link base_link has an inertia specified in the URDF, but KDL does not support a root link with an inertia.  As a workaround, you can add an extra dummy link to your URDF.\u001b[0m\n"
     ]
    }
   ],
   "source": [
    "moveit_plugin = BotPluginMoveIt(environment = env)"
   ]
  },
  {
   "cell_type": "code",
   "execution_count": 3,
   "id": "77018b3e-5d22-4db7-a743-9a83c29f2fb3",
   "metadata": {},
   "outputs": [],
   "source": [
    "moveit_plugin.plan_motion(x = -0.4,\n",
    "                          y = -0.3,\n",
    "                          z = 0.6,\n",
    "                          roll = 0,\n",
    "                          pitch = 0,\n",
    "                          yaw = np.pi/2)\n",
    "moveit_plugin.execute_plan()"
   ]
  },
  {
   "cell_type": "code",
   "execution_count": 4,
   "id": "1ac7c266-12e3-424f-b349-2ed8ca740de7",
   "metadata": {},
   "outputs": [
    {
     "name": "stdout",
     "output_type": "stream",
     "text": [
      "[-0.4278833441023908, -0.34024820538467165, 0.49952005972999314]\n"
     ]
    }
   ],
   "source": [
    "end_effector_link_index = 6\n",
    "base_link_index = 0\n",
    "state_end_effector = p.getLinkState(env._robotic_arm, end_effector_link_index)\n",
    "state_base = p.getLinkState(env._robotic_arm, base_link_index)\n",
    "\n",
    "# Position and orientation of the end effector\n",
    "position_end_effector = state_end_effector[0]\n",
    "position_base = state_base[0]\n",
    "\n",
    "print([position_end_effector[i] - position_base[i] for i in range(len(position_end_effector))])"
   ]
  },
  {
   "cell_type": "markdown",
   "id": "88eef92e-93d0-48d4-b85a-41c58c9d2590",
   "metadata": {
    "jp-MarkdownHeadingCollapsed": true
   },
   "source": [
    "# Load Delta Estimator V1"
   ]
  },
  {
   "cell_type": "markdown",
   "id": "b555cb3b-eb91-47d3-836c-6fce13a810fd",
   "metadata": {},
   "source": [
    "Delta estimator V1 is built on random forest regression. "
   ]
  },
  {
   "cell_type": "code",
   "execution_count": 5,
   "id": "f3bf58c9-67fb-408d-b571-f56cf6dad48d",
   "metadata": {},
   "outputs": [
    {
     "name": "stdout",
     "output_type": "stream",
     "text": [
      "Model loaded successfully\n"
     ]
    },
    {
     "name": "stderr",
     "output_type": "stream",
     "text": [
      "/home/n3r0/.local/lib/python3.8/site-packages/sklearn/base.py:348: InconsistentVersionWarning: Trying to unpickle estimator DecisionTreeRegressor from version 1.4.1.post1 when using version 1.3.2. This might lead to breaking code or invalid results. Use at your own risk. For more info please refer to:\n",
      "https://scikit-learn.org/stable/model_persistence.html#security-maintainability-limitations\n",
      "  warnings.warn(\n",
      "/home/n3r0/.local/lib/python3.8/site-packages/sklearn/base.py:348: InconsistentVersionWarning: Trying to unpickle estimator RandomForestRegressor from version 1.4.1.post1 when using version 1.3.2. This might lead to breaking code or invalid results. Use at your own risk. For more info please refer to:\n",
      "https://scikit-learn.org/stable/model_persistence.html#security-maintainability-limitations\n",
      "  warnings.warn(\n"
     ]
    }
   ],
   "source": [
    "model_filename = 'delta_regressor_RF.joblib'\n",
    "regressor2 = joblib.load(model_filename)\n",
    "print(\"Model loaded successfully\")"
   ]
  },
  {
   "cell_type": "markdown",
   "id": "b7f334cd-64e3-4ee2-a2cd-9f33da7dfc43",
   "metadata": {
    "jp-MarkdownHeadingCollapsed": true
   },
   "source": [
    "# Load Delta Estimator V2"
   ]
  },
  {
   "cell_type": "markdown",
   "id": "7bba2e53-39fb-4b63-bb94-add8be073273",
   "metadata": {},
   "source": [
    "Delta Estimator V2 is built on neural nets"
   ]
  },
  {
   "cell_type": "code",
   "execution_count": 6,
   "id": "5745d3c9-55b0-4edf-9246-addc3e35a5b7",
   "metadata": {},
   "outputs": [
    {
     "name": "stdout",
     "output_type": "stream",
     "text": [
      "Predicted Output: [-0.2558609 -1.5050874]\n"
     ]
    },
    {
     "name": "stderr",
     "output_type": "stream",
     "text": [
      "/home/n3r0/.local/lib/python3.8/site-packages/sklearn/base.py:348: InconsistentVersionWarning: Trying to unpickle estimator MinMaxScaler from version 1.2.2 when using version 1.3.2. This might lead to breaking code or invalid results. Use at your own risk. For more info please refer to:\n",
      "https://scikit-learn.org/stable/model_persistence.html#security-maintainability-limitations\n",
      "  warnings.warn(\n"
     ]
    }
   ],
   "source": [
    "# Load the scaler\n",
    "scaler = joblib.load('delta_estimator_mlp/scaler.pkl')\n",
    "\n",
    "# Parameters\n",
    "input_size = 9  # Number of input features\n",
    "hidden_size = 32  # Number of neurons in the hidden layer\n",
    "output_size = 2  # Number of output features (delta_y, delta_z)\n",
    "\n",
    "# Create model and load trained weights\n",
    "model = DeltaEstimatorMLP(input_size, hidden_size, output_size)\n",
    "model.load_state_dict(torch.load('delta_estimator_mlp/delta_estimator_mlp.pth'))\n",
    "model.eval()\n",
    "\n",
    "# Sample inference code\n",
    "def calculate_delta_v2(input_features):\n",
    "    # Convert input features to tensor\n",
    "    input_tensor = torch.tensor(input_features, dtype=torch.float32).unsqueeze(0)  # Add batch dimension\n",
    "    \n",
    "    # Perform inference\n",
    "    with torch.no_grad():\n",
    "        prediction = model(input_tensor)\n",
    "    \n",
    "    # Inverse transform the prediction to get original values\n",
    "    prediction_original = scaler.inverse_transform(prediction.numpy())\n",
    "    \n",
    "    return prediction_original[0]\n",
    "\n",
    "# Example input features for inference\n",
    "sample_input = np.array([\n",
    "    0.5, 0.5, 0.5,  # ball_initial_pos_x, ball_initial_pos_y, ball_initial_pos_z\n",
    "    1.0,  # distance_ball_robot\n",
    "    0.1, 0.1, 0.1,  # estimated_initial_velocity_x, estimated_initial_velocity_y, estimated_initial_velocity_z\n",
    "    0.2, 0.2  # estimated_hitting_point_y, estimated_hitting_point_z\n",
    "])\n",
    "\n",
    "# Perform inference and print the result\n",
    "predicted_output = calculate_delta_v2(sample_input)\n",
    "print(\"Predicted Output:\", predicted_output)\n"
   ]
  },
  {
   "cell_type": "markdown",
   "id": "74a955d8-5534-43ad-9a89-6a13e9816d46",
   "metadata": {
    "jp-MarkdownHeadingCollapsed": true
   },
   "source": [
    "# Goal Position Calculator"
   ]
  },
  {
   "cell_type": "markdown",
   "id": "f4fb55ec-13af-4b50-a1aa-0595fd52160f",
   "metadata": {},
   "source": [
    "This function calculates the estimated hitting point for the ball and the paddle."
   ]
  },
  {
   "cell_type": "code",
   "execution_count": 7,
   "id": "c68fa578-6e9c-4e98-9956-084436f8a060",
   "metadata": {},
   "outputs": [],
   "source": [
    "def find_goal_position():\n",
    "    ball_position1 = ball_initial_position = p.getBasePositionAndOrientation(env._ball)[0]\n",
    "    robot_initial_position = p.getLinkState(env._robotic_arm, 0)[0]      # can be collected from optitrack\n",
    "    distance = robot_initial_position[0] - ball_initial_position[0]\n",
    "    action = [0, 0, 0, 0, 0, 0]\n",
    "    env.step(action)\n",
    "    ball_position2 = p.getBasePositionAndOrientation(env._ball)[0]\n",
    "    \n",
    "    table_height = 1.0\n",
    "    estimated_initial_velocity = estimateInitVelocity(ball_position1, ball_position2, 1/240)\n",
    "    estimated_hitting_point, t1, t2 = estimate_hitting_point(ball_initial_position, robot_initial_position, estimated_initial_velocity, table_height)\n",
    "    # input_for_delta = [[ball_initial_position[0], ball_initial_position[1], ball_initial_position[2], distance, estimated_initial_velocity[0], estimated_initial_velocity[1], estimated_initial_velocity[2], estimated_hitting_point[0], estimated_hitting_point[1]]]\n",
    "    input_for_delta = [ball_initial_position[0], ball_initial_position[1], ball_initial_position[2], distance, estimated_initial_velocity[0], estimated_initial_velocity[1], estimated_initial_velocity[2], estimated_hitting_point[0], estimated_hitting_point[1]]\n",
    "    # print(input_for_delta)\n",
    "    # delta = regressor2.predict(np.asarray(input_for_delta)) # this uses random forest model\n",
    "    delta = calculate_delta_v2(np.asarray(input_for_delta))\n",
    "    return estimated_hitting_point+delta, estimated_initial_velocity"
   ]
  },
  {
   "cell_type": "markdown",
   "id": "ef495537-4d35-4518-beb8-56710e2c75af",
   "metadata": {
    "jp-MarkdownHeadingCollapsed": true
   },
   "source": [
    "Ball position range:\n",
    "- x : [-2, -1]\n",
    "- y : [-0.5, +0.5]\n",
    "- z : [1.5, 2.5]\n",
    "\n",
    "Ball velocity range:\n",
    "- x : [4, 8]\n",
    "- y : [-0.5, +0.5]\n",
    "- z : [-3, +1]\n",
    "    "
   ]
  },
  {
   "cell_type": "markdown",
   "id": "2e3d9c28-7675-49ff-8e5e-15017ec9d43a",
   "metadata": {},
   "source": [
    "This function calculates the distance between the ball and the paddle"
   ]
  },
  {
   "cell_type": "code",
   "execution_count": 8,
   "id": "c8b40072-7511-49a1-bbd6-474903fb26f3",
   "metadata": {},
   "outputs": [],
   "source": [
    "\n",
    "def ball_paddle_distance(ball_id, robot_id): ## defining probability = 1/ distance between ball and paddle\n",
    "    paddle_position = p.getLinkState(robot_id, 6)[0]\n",
    "    ball_position, _ = p.getBasePositionAndOrientation(ball_id)\n",
    "    distance = math.sqrt((paddle_position[0] - ball_position[0])**2 +\n",
    "                        (paddle_position[1] - ball_position[1])**2 +\n",
    "                        (paddle_position[2] - ball_position[2])**2)\n",
    "    return distance"
   ]
  },
  {
   "cell_type": "code",
   "execution_count": 9,
   "id": "c0929b8a-c5be-4cc3-8ef6-a4ab38140518",
   "metadata": {},
   "outputs": [
    {
     "data": {
      "text/plain": [
       "2.44512184905054"
      ]
     },
     "execution_count": 9,
     "metadata": {},
     "output_type": "execute_result"
    }
   ],
   "source": [
    "ball_paddle_distance(env._ball, env._robotic_arm)"
   ]
  },
  {
   "cell_type": "markdown",
   "id": "9e523155-6050-4653-aca9-07a9d4259c39",
   "metadata": {
    "jp-MarkdownHeadingCollapsed": true
   },
   "source": [
    "# Collision Checker"
   ]
  },
  {
   "cell_type": "markdown",
   "id": "f0139306-504a-45cc-8d12-24979c735eef",
   "metadata": {},
   "source": [
    "This function checks collision between two bodies. It needs to be checked immediately after stepSimulation. "
   ]
  },
  {
   "cell_type": "code",
   "execution_count": 10,
   "id": "528ff1c7-444c-47db-bdb3-1e6539a4f6a9",
   "metadata": {},
   "outputs": [],
   "source": [
    "def check_collision(body1, body2):\n",
    "    contacts = p.getContactPoints(body1, body2)\n",
    "    return len(contacts)>0"
   ]
  },
  {
   "cell_type": "markdown",
   "id": "85fce32b-74b1-4859-a0e7-17ecc869c30d",
   "metadata": {
    "jp-MarkdownHeadingCollapsed": true
   },
   "source": [
    "# The Loop"
   ]
  },
  {
   "cell_type": "code",
   "execution_count": 11,
   "id": "b7bd3d9e-9aa8-49fd-b375-0dd65a46f144",
   "metadata": {},
   "outputs": [],
   "source": [
    "## define states\n",
    "BALL_IS_THROWN = 0\n",
    "BALL_HIT_THE_PADDLE = 1\n",
    "BALL_HIT_THE_TABLE = 2"
   ]
  },
  {
   "cell_type": "code",
   "execution_count": 12,
   "id": "39816951-0ef0-48a8-8b2b-7e8f7c4431e3",
   "metadata": {},
   "outputs": [
    {
     "name": "stdout",
     "output_type": "stream",
     "text": [
      "ball has hit the paddle\n",
      "ball has hit the table at:  (-0.7820727582801645, 0.3706018740127936, 1.232838549490317)\n"
     ]
    },
    {
     "data": {
      "text/plain": [
       "([6.990339872011777, 0.0, -2.038114963431923],\n",
       " array([-0.19377349,  1.54570498]),\n",
       " 3.0046608697283843,\n",
       " (-0.7820727582801645, 0.3706018740127936, 1.232838549490317))"
      ]
     },
     "execution_count": 12,
     "metadata": {},
     "output_type": "execute_result"
    }
   ],
   "source": [
    "def the_loop(ball_init_position = [-1.3, -0.2, 2.1], \n",
    "             real_initial_velocity = [7.0, -0.0, -2], \n",
    "             paddle_hitting_vel = [-1000*np.pi/180, -900*np.pi/180, 900*np.pi/180]): # for joint 3, 4, 5\n",
    "    ## Throw the ball\n",
    "    env.get_new_ball(position=ball_init_position)\n",
    "\n",
    "    distance_ball_robot = p.getLinkState(env._robotic_arm, 0)[0][0] - ball_init_position[0]\n",
    "    \n",
    "    # print('I will throw ball')\n",
    "    env.throw_ball(real_initial_velocity)\n",
    "    state = BALL_IS_THROWN\n",
    "    table_hit_point = None\n",
    "    # print('I have thrown ball')\n",
    "\n",
    "    # print('starting to find goal position')\n",
    "    goal_position, estimated_init_vel = find_goal_position()\n",
    "    # print(goal_position)\n",
    "    # print('have calculated goal position')\n",
    "    # print(goal_position[0])\n",
    "    # print('starting to go to the goal position')\n",
    "    if goal_position[1] > 1.3:\n",
    "        moveit_plugin.plan_motion(x = -0.5,\n",
    "                              y = goal_position[0],\n",
    "                              z = goal_position[1] - 1.3,\n",
    "                              roll = 0,\n",
    "                              pitch = 0,\n",
    "                              yaw = np.pi/2)\n",
    "    \n",
    "        for step in moveit_plugin.plan[1].joint_trajectory.points:\n",
    "            joint_angles = step.positions\n",
    "            for i, angle in enumerate(joint_angles):\n",
    "                p.setJointMotorControl2(bodyIndex=env._robotic_arm,\n",
    "                                        jointIndex=i,\n",
    "                                        controlMode=p.POSITION_CONTROL,\n",
    "                                        targetPosition=angle,\n",
    "                                       )\n",
    "            p.stepSimulation()\n",
    "            time.sleep(1/240.0)\n",
    "    \n",
    "        for i in range(500):\n",
    "            \n",
    "            # print(ball_paddle_distance(env._ball, env._robotic_arm))\n",
    "            if state == BALL_IS_THROWN and check_collision(env._ball, env._robotic_arm):\n",
    "                state = BALL_HIT_THE_PADDLE\n",
    "                print('ball has hit the paddle')\n",
    "    \n",
    "                # p.setJointMotorControl2(bodyIndex=env._robotic_arm,\n",
    "                #                         jointIndex=4,\n",
    "                #                         controlMode=p.POSITION_CONTROL,\n",
    "                #                         targetPosition=80*np.pi/180,\n",
    "                #                        )\n",
    "                # p.setJointMotorControl2(bodyIndex=env._robotic_arm,\n",
    "                #                         jointIndex=5,\n",
    "                #                         controlMode=p.POSITION_CONTROL,\n",
    "                #                         targetPosition=220*np.pi/180,\n",
    "                #                        )\n",
    "                \n",
    "    \n",
    "                # p.setJointMotorControl2(bodyIndex=env._robotic_arm,\n",
    "                #                         jointIndex=3,\n",
    "                #                         controlMode=p.POSITION_CONTROL,\n",
    "                #                         targetPosition=0*np.pi/180,\n",
    "                #                        )\n",
    "    \n",
    "                ## generate impact force\n",
    "    \n",
    "                for timer in range(15):\n",
    "    \n",
    "                    p.setJointMotorControl2(bodyIndex=env._robotic_arm,\n",
    "                                            jointIndex=3,\n",
    "                                            controlMode=p.VELOCITY_CONTROL,\n",
    "                                            targetVelocity=paddle_hitting_vel[0],\n",
    "                                           )\n",
    "    \n",
    "                    p.setJointMotorControl2(bodyIndex=env._robotic_arm,\n",
    "                                            jointIndex=4,\n",
    "                                            controlMode=p.VELOCITY_CONTROL,\n",
    "                                            targetVelocity=paddle_hitting_vel[1],\n",
    "                                           )\n",
    "                    p.setJointMotorControl2(bodyIndex=env._robotic_arm,\n",
    "                                            jointIndex=5,\n",
    "                                            controlMode=p.VELOCITY_CONTROL,\n",
    "                                            targetVelocity=paddle_hitting_vel[2],\n",
    "                                           )\n",
    "                    time.sleep(1/240.0)\n",
    "                    p.stepSimulation()\n",
    "                p.setJointMotorControl2(bodyIndex=env._robotic_arm,\n",
    "                                            jointIndex=3,\n",
    "                                            controlMode=p.VELOCITY_CONTROL,\n",
    "                                            targetVelocity=0*np.pi/180,\n",
    "                                           )\n",
    "                \n",
    "                p.setJointMotorControl2(bodyIndex=env._robotic_arm,\n",
    "                                            jointIndex=4,\n",
    "                                            controlMode=p.VELOCITY_CONTROL,\n",
    "                                            targetVelocity=0*np.pi/180,\n",
    "                                           )\n",
    "                p.setJointMotorControl2(bodyIndex=env._robotic_arm,\n",
    "                                        jointIndex=5,\n",
    "                                        controlMode=p.VELOCITY_CONTROL,\n",
    "                                        targetVelocity=0*np.pi/180,\n",
    "                                       )\n",
    "                # p.setJointMotorControl2(bodyIndex=env._robotic_arm,\n",
    "                #                         jointIndex=3,\n",
    "                #                         controlMode=p.POSITION_CONTROL,\n",
    "                #                         targetPosition=0*np.pi/180,\n",
    "                #                        )\n",
    "    \n",
    "            if state == BALL_HIT_THE_PADDLE and check_collision(env._ball, env._table_body_id):\n",
    "                state = BALL_HIT_THE_TABLE\n",
    "                table_hit_point = env.get_state()['ball']['position']\n",
    "                print('ball has hit the table at: ', table_hit_point)\n",
    "            time.sleep(1/240.0)\n",
    "            p.stepSimulation()\n",
    "                \n",
    "        moveit_plugin.group.go(wait = True)\n",
    "        # moveit_plugin.execute_plan()\n",
    "    return estimated_init_vel, goal_position, distance_ball_robot, table_hit_point\n",
    "    \n",
    "the_loop()"
   ]
  },
  {
   "cell_type": "code",
   "execution_count": 13,
   "id": "3c393709-e516-4bb3-a9da-7eccfae054da",
   "metadata": {},
   "outputs": [
    {
     "data": {
      "text/plain": [
       "(4.110125372026592,\n",
       " 0.007406620598187588,\n",
       " (0.0, 0.0, 0.0, 0.0, 0.0, 0.0),\n",
       " 4.235840795939101)"
      ]
     },
     "execution_count": 13,
     "metadata": {},
     "output_type": "execute_result"
    }
   ],
   "source": [
    "p.getJointState(env._robotic_arm, 5)"
   ]
  },
  {
   "cell_type": "markdown",
   "id": "619cb958-e84c-43b5-bdb0-f26ac86346e4",
   "metadata": {},
   "source": [
    "# prepare a bigger table to collect data"
   ]
  },
  {
   "cell_type": "code",
   "execution_count": 18,
   "id": "aa398d82-62ae-4ccf-948d-8ba0b62caead",
   "metadata": {},
   "outputs": [],
   "source": [
    "p.removeBody(env._table_body_id) # removing the old table"
   ]
  },
  {
   "cell_type": "code",
   "execution_count": 19,
   "id": "11fcc75c-1f6f-4379-9b63-5228f644746c",
   "metadata": {},
   "outputs": [],
   "source": [
    "# load the new big table\n",
    "table_id = p.createCollisionShape(p.GEOM_BOX, halfExtents=[5, 5, 0.5])\n",
    "table_visual_id = -1  # No visual representation for now\n",
    "env._table_body_id = p.createMultiBody(baseMass=20000.0, baseCollisionShapeIndex=table_id, baseVisualShapeIndex=table_visual_id, basePosition=[0, 0, 0.7])\n",
    "p.changeDynamics(env._table_body_id, -1, restitution=0.8, lateralFriction = 0.5)  # Adjust the restitution as needed (e.g., 0.8 for a good bounce)\n",
    "# p.changeDynamics(self._table_body_id, -1, restitution=1.0)  # Adjust the restitution as needed (e.g., 0.8 for a good bounce)"
   ]
  },
  {
   "cell_type": "code",
   "execution_count": 16,
   "id": "9337397e-773b-4726-83b6-bfb83753d6ba",
   "metadata": {},
   "outputs": [
    {
     "name": "stdout",
     "output_type": "stream",
     "text": [
      "ball has hit the paddle\n",
      "ball has hit the table at:  (-2.6639683745668985, 0.6310661434726804, 1.2279409654360471)\n"
     ]
    },
    {
     "data": {
      "text/plain": [
       "([6.990339872011777, 0.0, -2.038114963431923],\n",
       " array([-0.39980886,  1.6126017 ]),\n",
       " 3.003426745790377,\n",
       " (-2.6639683745668985, 0.6310661434726804, 1.2279409654360471))"
      ]
     },
     "execution_count": 16,
     "metadata": {},
     "output_type": "execute_result"
    }
   ],
   "source": [
    "the_loop(ball_init_position = [-1.3, -0.4, 2.1], \n",
    "         real_initial_velocity = [7.0, -0.0, -2])"
   ]
  },
  {
   "cell_type": "markdown",
   "id": "49b57c2d-d30c-45cd-97c6-6ccfb2e9217b",
   "metadata": {},
   "source": [
    "params to be considered:\n",
    "- ball_init_pos_x\n",
    "- ball_init_pos_y\n",
    "- ball_init_pos_z\n",
    "- ball_init_vel_estimated_x\n",
    "- ball_init_vel_estimated_y\n",
    "- ball_init_vel_estimated_z\n",
    "- physics_delta_hitting_point_y\n",
    "- physics_delta_hitting_point_z\n",
    "- distance_ball_robot\n",
    "- ball_hitting_success\n",
    "- robot_angular_vel_joint3\n",
    "- robot_angular_vel_joint4\n",
    "- robot_angular_vel_joint5\n",
    "- table_hitting_pos_x\n",
    "- table_hitting_pos_y"
   ]
  },
  {
   "cell_type": "markdown",
   "id": "2205782e-0616-480c-956c-a194a233406f",
   "metadata": {},
   "source": [
    "# Collect Data"
   ]
  },
  {
   "cell_type": "code",
   "execution_count": 17,
   "id": "301ababc-e9d2-4ed0-a7a4-5577b68583c7",
   "metadata": {},
   "outputs": [
    {
     "name": "stdout",
     "output_type": "stream",
     "text": [
      "ball has hit the paddle\n",
      "ball has hit the paddle\n",
      "ball has hit the table at:  (0.9356963157212079, 0.19859313932404649, 1.2257953595666917)\n",
      "[-1.2620170864822327, 0.3430543736881164, 2.0257340236071264, 4.653692047970637, -0.4634897951964101, 0.4466122520330629, 0.048445714457081235, 1.3241050538371189, 2.965685998684232, 0.9356963157212079, 0.19859313932404649, 1.2257953595666917, -11.550672069210302, 24.97826378114125, 13.91576970957035]\n",
      "ball has hit the paddle\n",
      "ball has hit the table at:  (0.689200132727169, 0.05245144790608479, 1.2299932487376828)\n",
      "[-1.0541486554064232, 0.29100672393493165, 2.4865528094862923, 6.416505572098785, -0.44977413174049463, -1.265857401908299, 0.10825200429887649, 1.3769215294196606, 2.757962237637252, 0.689200132727169, 0.05245144790608479, 1.2299932487376828, 4.424415240857507, -23.97891495105937, -25.932485877205448]\n",
      "ball has hit the paddle\n",
      "ball has hit the table at:  (0.9310089573865731, 0.1461498772956749, 1.2219761638818707)\n",
      "[-1.0547583379810077, 0.3117987927011392, 2.437014553788251, 5.1691493073155215, -0.15603303074736008, -1.7430409487003118, 0.23601496569356906, 1.7711187509309958, 2.757966411382392, 0.9310089573865731, 0.1461498772956749, 1.2219761638818707, 25.333433849232243, -16.962366779654456, 9.633193647386994]\n"
     ]
    },
    {
     "ename": "KeyboardInterrupt",
     "evalue": "",
     "output_type": "error",
     "traceback": [
      "\u001b[0;31m---------------------------------------------------------------------------\u001b[0m",
      "\u001b[0;31mKeyboardInterrupt\u001b[0m                         Traceback (most recent call last)",
      "Cell \u001b[0;32mIn[17], line 92\u001b[0m\n\u001b[1;32m     82\u001b[0m                 writer\u001b[38;5;241m.\u001b[39mwriterow([\n\u001b[1;32m     83\u001b[0m                     ball_init_position[\u001b[38;5;241m0\u001b[39m], ball_init_position[\u001b[38;5;241m1\u001b[39m], ball_init_position[\u001b[38;5;241m2\u001b[39m],\n\u001b[1;32m     84\u001b[0m                     estimated_init_vel[\u001b[38;5;241m0\u001b[39m], estimated_init_vel[\u001b[38;5;241m1\u001b[39m], estimated_init_vel[\u001b[38;5;241m2\u001b[39m],\n\u001b[0;32m   (...)\u001b[0m\n\u001b[1;32m     88\u001b[0m                     paddle_hitting_vel[\u001b[38;5;241m0\u001b[39m], paddle_hitting_vel[\u001b[38;5;241m1\u001b[39m], paddle_hitting_vel[\u001b[38;5;241m2\u001b[39m]\n\u001b[1;32m     89\u001b[0m                 ])\n\u001b[1;32m     91\u001b[0m \u001b[38;5;66;03m# Example usage\u001b[39;00m\n\u001b[0;32m---> 92\u001b[0m \u001b[43mrun_simulation_and_store_results\u001b[49m\u001b[43m(\u001b[49m\u001b[38;5;124;43m'\u001b[39;49m\u001b[38;5;124;43mhitting_velocity_simulation_data.csv\u001b[39;49m\u001b[38;5;124;43m'\u001b[39;49m\u001b[43m,\u001b[49m\u001b[43m \u001b[49m\u001b[38;5;241;43m10000\u001b[39;49m\u001b[43m)\u001b[49m\n",
      "Cell \u001b[0;32mIn[17], line 63\u001b[0m, in \u001b[0;36mrun_simulation_and_store_results\u001b[0;34m(filename, num_iterations)\u001b[0m\n\u001b[1;32m     60\u001b[0m p\u001b[38;5;241m.\u001b[39mremoveBody(env\u001b[38;5;241m.\u001b[39m_ball)\n\u001b[1;32m     62\u001b[0m ball_init_position, real_initial_velocity, paddle_hitting_vel \u001b[38;5;241m=\u001b[39m generate_random_inputs()\n\u001b[0;32m---> 63\u001b[0m estimated_init_vel, goal_position, distance_ball_robot, table_hit_point \u001b[38;5;241m=\u001b[39m \u001b[43mthe_loop\u001b[49m\u001b[43m(\u001b[49m\n\u001b[1;32m     64\u001b[0m \u001b[43m    \u001b[49m\u001b[43mball_init_position\u001b[49m\u001b[38;5;241;43m=\u001b[39;49m\u001b[43mball_init_position\u001b[49m\u001b[43m,\u001b[49m\n\u001b[1;32m     65\u001b[0m \u001b[43m    \u001b[49m\u001b[43mreal_initial_velocity\u001b[49m\u001b[38;5;241;43m=\u001b[39;49m\u001b[43mreal_initial_velocity\u001b[49m\u001b[43m,\u001b[49m\n\u001b[1;32m     66\u001b[0m \u001b[43m    \u001b[49m\u001b[43mpaddle_hitting_vel\u001b[49m\u001b[38;5;241;43m=\u001b[39;49m\u001b[43mpaddle_hitting_vel\u001b[49m\n\u001b[1;32m     67\u001b[0m \u001b[43m\u001b[49m\u001b[43m)\u001b[49m\n\u001b[1;32m     69\u001b[0m \u001b[38;5;66;03m# Ensure that table_hit_point is not None\u001b[39;00m\n\u001b[1;32m     70\u001b[0m table_hit_point_x, table_hit_point_y, table_hit_point_z \u001b[38;5;241m=\u001b[39m table_hit_point \u001b[38;5;28;01mif\u001b[39;00m table_hit_point \u001b[38;5;28;01melse\u001b[39;00m (\u001b[38;5;28;01mNone\u001b[39;00m, \u001b[38;5;28;01mNone\u001b[39;00m, \u001b[38;5;28;01mNone\u001b[39;00m)\n",
      "Cell \u001b[0;32mIn[12], line 116\u001b[0m, in \u001b[0;36mthe_loop\u001b[0;34m(ball_init_position, real_initial_velocity, paddle_hitting_vel)\u001b[0m\n\u001b[1;32m    113\u001b[0m         time\u001b[38;5;241m.\u001b[39msleep(\u001b[38;5;241m1\u001b[39m\u001b[38;5;241m/\u001b[39m\u001b[38;5;241m240.0\u001b[39m)\n\u001b[1;32m    114\u001b[0m         p\u001b[38;5;241m.\u001b[39mstepSimulation()\n\u001b[0;32m--> 116\u001b[0m     \u001b[43mmoveit_plugin\u001b[49m\u001b[38;5;241;43m.\u001b[39;49m\u001b[43mgroup\u001b[49m\u001b[38;5;241;43m.\u001b[39;49m\u001b[43mgo\u001b[49m\u001b[43m(\u001b[49m\u001b[43mwait\u001b[49m\u001b[43m \u001b[49m\u001b[38;5;241;43m=\u001b[39;49m\u001b[43m \u001b[49m\u001b[38;5;28;43;01mTrue\u001b[39;49;00m\u001b[43m)\u001b[49m\n\u001b[1;32m    117\u001b[0m     \u001b[38;5;66;03m# moveit_plugin.execute_plan()\u001b[39;00m\n\u001b[1;32m    118\u001b[0m \u001b[38;5;28;01mreturn\u001b[39;00m estimated_init_vel, goal_position, distance_ball_robot, table_hit_point\n",
      "File \u001b[0;32m/opt/ros/noetic/lib/python3/dist-packages/moveit_commander/move_group.py:615\u001b[0m, in \u001b[0;36mMoveGroupCommander.go\u001b[0;34m(self, joints, wait)\u001b[0m\n\u001b[1;32m    613\u001b[0m         \u001b[38;5;28mself\u001b[39m\u001b[38;5;241m.\u001b[39mset_joint_value_target(joints)\n\u001b[1;32m    614\u001b[0m \u001b[38;5;28;01mif\u001b[39;00m wait:\n\u001b[0;32m--> 615\u001b[0m     \u001b[38;5;28;01mreturn\u001b[39;00m \u001b[38;5;28;43mself\u001b[39;49m\u001b[38;5;241;43m.\u001b[39;49m\u001b[43m_g\u001b[49m\u001b[38;5;241;43m.\u001b[39;49m\u001b[43mmove\u001b[49m\u001b[43m(\u001b[49m\u001b[43m)\u001b[49m\n\u001b[1;32m    616\u001b[0m \u001b[38;5;28;01melse\u001b[39;00m:\n\u001b[1;32m    617\u001b[0m     \u001b[38;5;28;01mreturn\u001b[39;00m \u001b[38;5;28mself\u001b[39m\u001b[38;5;241m.\u001b[39m_g\u001b[38;5;241m.\u001b[39masync_move()\n",
      "\u001b[0;31mKeyboardInterrupt\u001b[0m: "
     ]
    }
   ],
   "source": [
    "import csv\n",
    "import random\n",
    "import numpy as np\n",
    "import pybullet as p\n",
    "\n",
    "# Define the ranges for the inputs\n",
    "ball_init_position_x_range = [-2, -1]\n",
    "ball_init_position_y_range = [-0.5, 0.5]\n",
    "ball_init_position_z_range = [1.5, 2.5]\n",
    "\n",
    "real_initial_velocity_x_range = [4, 8]\n",
    "real_initial_velocity_y_range = [-0.5, 0.5]\n",
    "real_initial_velocity_z_range = [-3, 1]\n",
    "\n",
    "paddle_hitting_vel_joint3_range = [-1500, 1500]\n",
    "paddle_hitting_vel_joint4_range = [-1500, 1500]\n",
    "paddle_hitting_vel_joint5_range = [-1500, 1500]\n",
    "\n",
    "def generate_random_inputs():\n",
    "    ball_init_position = [\n",
    "        random.uniform(*ball_init_position_x_range),\n",
    "        random.uniform(*ball_init_position_y_range),\n",
    "        random.uniform(*ball_init_position_z_range)\n",
    "    ]\n",
    "    real_initial_velocity = [\n",
    "        random.uniform(*real_initial_velocity_x_range),\n",
    "        random.uniform(*real_initial_velocity_y_range),\n",
    "        random.uniform(*real_initial_velocity_z_range)\n",
    "    ]\n",
    "    paddle_hitting_vel = [\n",
    "        random.uniform(*paddle_hitting_vel_joint3_range) * np.pi / 180,\n",
    "        random.uniform(*paddle_hitting_vel_joint4_range) * np.pi / 180,\n",
    "        random.uniform(*paddle_hitting_vel_joint5_range) * np.pi / 180\n",
    "    ]\n",
    "    return ball_init_position, real_initial_velocity, paddle_hitting_vel\n",
    "\n",
    "def run_simulation_and_store_results(filename, num_iterations):\n",
    "    with open(filename, mode='a', newline='') as file:\n",
    "        writer = csv.writer(file)\n",
    "        # Write the header\n",
    "        # writer.writerow([\n",
    "        #     \"ball_init_position_x\", \"ball_init_position_y\", \"ball_init_position_z\",\n",
    "        #     \"estimated_init_vel_x\", \"estimated_init_vel_y\", \"estimated_init_vel_z\",\n",
    "        #     \"goal_position_y\", \"goal_position_z\",\n",
    "        #     \"distance_ball_robot\",\n",
    "        #     \"table_hit_point_x\", \"table_hit_point_y\", \"table_hit_point_z\",\n",
    "        #     \"paddle_hitting_vel_joint3\", \"paddle_hitting_vel_joint4\", \"paddle_hitting_vel_joint5\"\n",
    "        # ])\n",
    "\n",
    "        for _ in range(num_iterations):\n",
    "\n",
    "            ### get fresh table and ball\n",
    "            p.removeBody(env._table_body_id) # removing the old table\n",
    "            # load the new big table            table_id = p.createCollisionShape(p.GEOM_BOX, halfExtents=[5, 5, 0.5])\n",
    "            table_visual_id = -1  # No visual representation for now\n",
    "            env._table_body_id = p.createMultiBody(baseMass=20000.0, baseCollisionShapeIndex=table_id, baseVisualShapeIndex=table_visual_id, basePosition=[-3.4, 0, 0.7])\n",
    "            p.changeDynamics(env._table_body_id, -1, restitution=0.8, lateralFriction = 0.5)  # Adjust the restitution as needed (e.g., 0.8 for a good bounce)\n",
    "            # p.changeDynamics(self._table_body_id, -1, restitution=1.0)  # Adjust the restitution as needed (e.g., 0.8 for a good bounce)\n",
    "            \n",
    "            p.removeBody(env._ball)\n",
    "            \n",
    "            ball_init_position, real_initial_velocity, paddle_hitting_vel = generate_random_inputs()\n",
    "            estimated_init_vel, goal_position, distance_ball_robot, table_hit_point = the_loop(\n",
    "                ball_init_position=ball_init_position,\n",
    "                real_initial_velocity=real_initial_velocity,\n",
    "                paddle_hitting_vel=paddle_hitting_vel\n",
    "            )\n",
    "\n",
    "            # Ensure that table_hit_point is not None\n",
    "            table_hit_point_x, table_hit_point_y, table_hit_point_z = table_hit_point if table_hit_point else (None, None, None)\n",
    "            if not table_hit_point_x == None:\n",
    "            \n",
    "                print([\n",
    "                    ball_init_position[0], ball_init_position[1], ball_init_position[2],\n",
    "                    estimated_init_vel[0], estimated_init_vel[1], estimated_init_vel[2],\n",
    "                    goal_position[0], goal_position[1],\n",
    "                    distance_ball_robot,\n",
    "                    table_hit_point_x, table_hit_point_y, table_hit_point_z,\n",
    "                    paddle_hitting_vel[0], paddle_hitting_vel[1], paddle_hitting_vel[2]\n",
    "                ])\n",
    "                # Write the results\n",
    "                writer.writerow([\n",
    "                    ball_init_position[0], ball_init_position[1], ball_init_position[2],\n",
    "                    estimated_init_vel[0], estimated_init_vel[1], estimated_init_vel[2],\n",
    "                    goal_position[0], goal_position[1],\n",
    "                    distance_ball_robot,\n",
    "                    table_hit_point_x, table_hit_point_y, table_hit_point_z,\n",
    "                    paddle_hitting_vel[0], paddle_hitting_vel[1], paddle_hitting_vel[2]\n",
    "                ])\n",
    "\n",
    "# Example usage\n",
    "run_simulation_and_store_results('hitting_velocity_simulation_data.csv', 10000)"
   ]
  }
 ],
 "metadata": {
  "kernelspec": {
   "display_name": "Python 3 (ipykernel)",
   "language": "python",
   "name": "python3"
  },
  "language_info": {
   "codemirror_mode": {
    "name": "ipython",
    "version": 3
   },
   "file_extension": ".py",
   "mimetype": "text/x-python",
   "name": "python",
   "nbconvert_exporter": "python",
   "pygments_lexer": "ipython3",
   "version": "3.8.10"
  }
 },
 "nbformat": 4,
 "nbformat_minor": 5
}
