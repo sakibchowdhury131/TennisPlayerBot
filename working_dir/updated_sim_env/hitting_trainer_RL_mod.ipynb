{
 "cells": [
  {
   "cell_type": "markdown",
   "id": "b01a737b-16f3-46de-b08a-63e6545808e1",
   "metadata": {},
   "source": [
    "## Starting the environment"
   ]
  },
  {
   "cell_type": "code",
   "execution_count": 1,
   "id": "e9706cdb-7506-487f-a2bf-91a00b480335",
   "metadata": {},
   "outputs": [
    {
     "name": "stderr",
     "output_type": "stream",
     "text": [
      "pybullet build time: Nov 28 2023 23:51:11\n"
     ]
    },
    {
     "name": "stdout",
     "output_type": "stream",
     "text": [
      "Predicted Output: [-0.2558609 -1.5050874]\n"
     ]
    },
    {
     "name": "stderr",
     "output_type": "stream",
     "text": [
      "/home/n3r0/.local/lib/python3.8/site-packages/sklearn/base.py:348: InconsistentVersionWarning: Trying to unpickle estimator MinMaxScaler from version 1.2.2 when using version 1.3.2. This might lead to breaking code or invalid results. Use at your own risk. For more info please refer to:\n",
      "https://scikit-learn.org/stable/model_persistence.html#security-maintainability-limitations\n",
      "  warnings.warn(\n"
     ]
    }
   ],
   "source": [
    "from TableTennisEnvironmentV0.TableTennisEnvironment import TableTennisEnv\n",
    "from utils.BotPluginMoveIt import BotPluginMoveIt\n",
    "import pybullet as p\n",
    "import numpy as np\n",
    "import time\n",
    "import joblib\n",
    "from utils.physics_solvers import estimateInitVelocity, estimate_hitting_point, calculate_delta, had_double_bounce, had_no_bounce\n",
    "import math\n",
    "import torch\n",
    "import torch.nn as nn\n",
    "import torch.optim as optim\n",
    "from delta_estimator_mlp.DeltaEstimatorMLP import DeltaEstimatorMLP\n",
    "import random"
   ]
  },
  {
   "cell_type": "code",
   "execution_count": 2,
   "id": "8f7f307f-e451-4b49-8c66-bb2504e1fa9e",
   "metadata": {},
   "outputs": [],
   "source": [
    "env = TableTennisEnv(show_gui=False)"
   ]
  },
  {
   "cell_type": "markdown",
   "id": "f44d82e0-84fe-442c-a651-9fabfac83553",
   "metadata": {},
   "source": [
    "## MoveItPlugin"
   ]
  },
  {
   "cell_type": "code",
   "execution_count": 3,
   "id": "eb3db2b5-8fd8-4e4f-b2ca-52494565c373",
   "metadata": {},
   "outputs": [
    {
     "name": "stderr",
     "output_type": "stream",
     "text": [
      "\u001b[31m[ERROR] [1718316324.314208101]: Group 'paddle_group' for end-effector 'paddle' cannot be its own parent\u001b[0m\n",
      "\u001b[33m[ WARN] [1718316324.352050915]: The root link base_link has an inertia specified in the URDF, but KDL does not support a root link with an inertia.  As a workaround, you can add an extra dummy link to your URDF.\u001b[0m\n",
      "\u001b[33m[ WARN] [1718316324.374067282]: The root link base_link has an inertia specified in the URDF, but KDL does not support a root link with an inertia.  As a workaround, you can add an extra dummy link to your URDF.\u001b[0m\n",
      "\u001b[33m[ WARN] [1718316324.388459820]: The root link base_link has an inertia specified in the URDF, but KDL does not support a root link with an inertia.  As a workaround, you can add an extra dummy link to your URDF.\u001b[0m\n"
     ]
    }
   ],
   "source": [
    "moveit_plugin = BotPluginMoveIt(environment = env)"
   ]
  },
  {
   "cell_type": "code",
   "execution_count": 20,
   "id": "19ac9c30-6b70-4816-83da-2a0697987157",
   "metadata": {},
   "outputs": [
    {
     "name": "stdout",
     "output_type": "stream",
     "text": [
      "53 74\n"
     ]
    }
   ],
   "source": [
    "xt = -0.4\n",
    "yt = -0.5\n",
    "zt = 1.7\n",
    "\n",
    "moveit_plugin.group.set_named_target('ready_to_play_pose')\n",
    "moveit_plugin.plan = moveit_plugin.group.plan()\n",
    "moveit_plugin.execute_plan()\n",
    "moveit_plugin.plan_motion(x = xt,\n",
    "                          y = yt,## This goal position denotes the intercept point\n",
    "                          z = zt - 1.4,\n",
    "                          roll = 0,\n",
    "                          pitch = 0,\n",
    "                          yaw = np.pi/2)\n",
    "plan1 = moveit_plugin.plan\n",
    "plan1_trajectory = plan1[1].joint_trajectory.points\n",
    "\n",
    "moveit_plugin.plan_motion(x = xt,\n",
    "                          y = yt,## This goal position denotes the intercept point\n",
    "                          z = zt - 1.4,\n",
    "                          roll = 0,\n",
    "                          pitch = 0,\n",
    "                          yaw = -np.pi/2)\n",
    "plan2 = moveit_plugin.plan\n",
    "plan2_trajectory = plan2[1].joint_trajectory.points\n",
    "\n",
    "print(len(plan1_trajectory), len(plan2_trajectory))\n",
    "\n",
    "if len(plan1_trajectory)< len(plan2_trajectory):\n",
    "    moveit_plugin.plan = plan1\n",
    "else:\n",
    "    moveit_plugin.plan = plan2\n",
    "# print(moveit_plugin.plan)\n",
    "# moveit_plugin.execute_plan() ## Reached the intercept point\n",
    "\n",
    "## 2 acceptable orienations [0, 0, +- np.pi/2]\n",
    "## PLAN MOTION for each of these orientations\n",
    "## find the length of these orientations"
   ]
  },
  {
   "cell_type": "code",
   "execution_count": 5,
   "id": "e2623ed3-6ac2-4759-b1cf-9359db340322",
   "metadata": {},
   "outputs": [
    {
     "data": {
      "text/plain": [
       "True"
      ]
     },
     "execution_count": 5,
     "metadata": {},
     "output_type": "execute_result"
    }
   ],
   "source": [
    "counter = 0\n",
    "for step in moveit_plugin.plan[1].joint_trajectory.points:\n",
    "    joint_angles = step.positions\n",
    "    counter += 1\n",
    "\n",
    "    if counter > 1:\n",
    "        for i, angle in enumerate(joint_angles):\n",
    "            p.setJointMotorControl2(bodyIndex=moveit_plugin.env._robotic_arm,\n",
    "                                    jointIndex=i,\n",
    "                                    controlMode=p.POSITION_CONTROL,\n",
    "                                    targetPosition=angle,\n",
    "                                   )\n",
    "            p.stepSimulation()\n",
    "            time.sleep(1/240.0)\n",
    "    \n",
    "moveit_plugin.group.go(wait = True)"
   ]
  },
  {
   "cell_type": "markdown",
   "id": "02c117cc-5710-4c56-bfe3-ffb714d6599f",
   "metadata": {},
   "source": [
    "## Delta Estimator (MLP)"
   ]
  },
  {
   "cell_type": "code",
   "execution_count": 6,
   "id": "2f4a0ed7-9253-41f1-ac4d-014c49ec7d69",
   "metadata": {},
   "outputs": [
    {
     "name": "stdout",
     "output_type": "stream",
     "text": [
      "Predicted Output: [-0.2558609 -1.5050874]\n"
     ]
    },
    {
     "name": "stderr",
     "output_type": "stream",
     "text": [
      "/home/n3r0/.local/lib/python3.8/site-packages/sklearn/base.py:348: InconsistentVersionWarning: Trying to unpickle estimator MinMaxScaler from version 1.2.2 when using version 1.3.2. This might lead to breaking code or invalid results. Use at your own risk. For more info please refer to:\n",
      "https://scikit-learn.org/stable/model_persistence.html#security-maintainability-limitations\n",
      "  warnings.warn(\n"
     ]
    }
   ],
   "source": [
    "# Load the scaler\n",
    "scaler = joblib.load('delta_estimator_mlp/scaler.pkl')\n",
    "\n",
    "# Parameters\n",
    "input_size = 9  # Number of input features\n",
    "hidden_size = 32  # Number of neurons in the hidden layer\n",
    "output_size = 2  # Number of output features (delta_y, delta_z)\n",
    "\n",
    "# Create model and load trained weights\n",
    "model = DeltaEstimatorMLP(input_size, hidden_size, output_size)\n",
    "model.load_state_dict(torch.load('delta_estimator_mlp/delta_estimator_mlp.pth'))\n",
    "model.eval()\n",
    "\n",
    "# Sample inference code\n",
    "def calculate_delta_v2(input_features):\n",
    "    # Convert input features to tensor\n",
    "    input_tensor = torch.tensor(input_features, dtype=torch.float32).unsqueeze(0)  # Add batch dimension\n",
    "    \n",
    "    # Perform inference\n",
    "    with torch.no_grad():\n",
    "        prediction = model(input_tensor)\n",
    "\n",
    "    # print(prediction)\n",
    "    # Inverse transform the prediction to get original values\n",
    "    prediction_original = scaler.inverse_transform(prediction.numpy())\n",
    "    \n",
    "    return prediction_original[0]\n",
    "\n",
    "# Example input features for inference\n",
    "sample_input = np.array([\n",
    "    0.5, 0.5, 0.5,  # ball_initial_pos_x, ball_initial_pos_y, ball_initial_pos_z\n",
    "    1.0,  # distance_ball_robot\n",
    "    0.1, 0.1, 0.1,  # estimated_initial_velocity_x, estimated_initial_velocity_y, estimated_initial_velocity_z\n",
    "    0.2, 0.2  # estimated_hitting_point_y, estimated_hitting_point_z\n",
    "])\n",
    "\n",
    "# Perform inference and print the result\n",
    "predicted_output = calculate_delta_v2(sample_input)\n",
    "print(\"Predicted Output:\", predicted_output)\n"
   ]
  },
  {
   "cell_type": "markdown",
   "id": "46ad7d58-d904-4037-a875-3f211859d18c",
   "metadata": {},
   "source": [
    "## Paddle Goal Calculator"
   ]
  },
  {
   "cell_type": "code",
   "execution_count": 7,
   "id": "686c6867-f756-4c96-a341-2ba0078a53ac",
   "metadata": {},
   "outputs": [],
   "source": [
    "def find_goal_position():\n",
    "    ball_position1 = ball_initial_position = p.getBasePositionAndOrientation(env._ball)[0]\n",
    "    robot_initial_position = p.getLinkState(env._robotic_arm, 0)[0]      # can be collected from optitrack\n",
    "    distance = robot_initial_position[0] - ball_initial_position[0]\n",
    "    action = [0, 0, 0, 0, 0, 0]\n",
    "    env.step(action)\n",
    "    ball_position2 = p.getBasePositionAndOrientation(env._ball)[0]\n",
    "    table_height = 1.0\n",
    "    estimated_initial_velocity = estimateInitVelocity(ball_position1, ball_position2, 1/240)\n",
    "    estimated_hitting_point, t1, t2 = estimate_hitting_point(ball_initial_position, robot_initial_position, estimated_initial_velocity, table_height)\n",
    "    input_for_delta = [ball_initial_position[0], \n",
    "                       ball_initial_position[1], \n",
    "                       ball_initial_position[2], \n",
    "                       distance, \n",
    "                       estimated_initial_velocity[0], \n",
    "                       estimated_initial_velocity[1], \n",
    "                       estimated_initial_velocity[2], \n",
    "                       estimated_hitting_point[0], \n",
    "                       estimated_hitting_point[1]]\n",
    "    delta = calculate_delta_v2(np.asarray(input_for_delta))\n",
    "    return estimated_hitting_point+delta, estimated_initial_velocity"
   ]
  },
  {
   "cell_type": "markdown",
   "id": "6030da7e-fec4-480c-bf29-d3d238a855f2",
   "metadata": {},
   "source": [
    "## Additional Info\n",
    "Ball position range:\n",
    "- x : [-2, -1]\n",
    "- y : [-0.5, +0.5]\n",
    "- z : [1.5, 2.5]\n",
    "\n",
    "Ball velocity range:\n",
    "- x : [4, 8]\n",
    "- y : [-0.5, +0.5]\n",
    "- z : [-3, +1]\n",
    "\n"
   ]
  },
  {
   "cell_type": "markdown",
   "id": "97dc0c02-41e5-4942-bf6e-a5958692491f",
   "metadata": {},
   "source": [
    "## Collision Checker"
   ]
  },
  {
   "cell_type": "code",
   "execution_count": 8,
   "id": "1f4b9725-5358-46e9-8aad-170e4622dd80",
   "metadata": {},
   "outputs": [],
   "source": [
    "def check_collision(body1, body2):\n",
    "    contacts = p.getContactPoints(body1, body2)\n",
    "    return len(contacts)>0"
   ]
  },
  {
   "cell_type": "markdown",
   "id": "e8cc123e-c1de-4b55-869c-741ad86de2ad",
   "metadata": {
    "jp-MarkdownHeadingCollapsed": true
   },
   "source": [
    "## Defining the Neural Net"
   ]
  },
  {
   "cell_type": "code",
   "execution_count": 9,
   "id": "5d71a221-29b8-4fd8-9712-14b88dd2d291",
   "metadata": {},
   "outputs": [
    {
     "name": "stdout",
     "output_type": "stream",
     "text": [
      "torch.Size([1, 3])\n"
     ]
    }
   ],
   "source": [
    "class HittingVelocityPlanner(nn.Module):\n",
    "    def __init__(self, features_len, vel_len):\n",
    "        super(HittingVelocityPlanner, self).__init__()\n",
    "        self.fc0 = nn.Linear(features_len, 2*features_len)\n",
    "        self.fc1 = nn.Linear(2*features_len, 4*features_len)\n",
    "        self.fc2 = nn.Linear(4*features_len, 8*features_len)\n",
    "        self.fc3 = nn.Linear(8*features_len, 4*features_len)\n",
    "        self.fc4 = nn.Linear(4*features_len, 2*features_len)\n",
    "        self.fc5 = nn.Linear(2*features_len, vel_len)\n",
    "\n",
    "    def forward(self, x):\n",
    "        x = x0 = self.fc0(x)\n",
    "        x = x1 = torch.sigmoid(self.fc1(x))\n",
    "        x = self.fc2(x)\n",
    "        x = x1 + torch.relu(self.fc3(x))\n",
    "        x = x0 + self.fc4(x)\n",
    "        x = self.fc5(x)\n",
    "        return x\n",
    "\n",
    "\n",
    "batch_size = 1\n",
    "features_len = 9\n",
    "vel_len = 3\n",
    "\n",
    "hitting_model = HittingVelocityPlanner(features_len, vel_len)\n",
    "x = torch.randn(batch_size, features_len)\n",
    "output = hitting_model(x)\n",
    "print(output.shape)"
   ]
  },
  {
   "cell_type": "markdown",
   "id": "5f42d157-3486-4fcc-999c-c73127206f15",
   "metadata": {
    "jp-MarkdownHeadingCollapsed": true
   },
   "source": [
    "## Defining the Loss"
   ]
  },
  {
   "cell_type": "code",
   "execution_count": 10,
   "id": "c14410ea-e142-4f67-85fc-29b4160a1aa8",
   "metadata": {},
   "outputs": [],
   "source": [
    "class EuclideanLoss(nn.Module):\n",
    "    def __init__(self):\n",
    "        super(EuclideanLoss, self).__init__()\n",
    "\n",
    "    def forward(self, output, target):\n",
    "        return torch.sqrt(torch.sum((output - target)**2))"
   ]
  },
  {
   "cell_type": "code",
   "execution_count": 11,
   "id": "ed6f8c54-2058-45b7-b391-effebfd6a65c",
   "metadata": {},
   "outputs": [],
   "source": [
    "criterion = EuclideanLoss()\n",
    "optimizer = optim.Adam(hitting_model.parameters(), lr = 0.001)"
   ]
  },
  {
   "cell_type": "markdown",
   "id": "e3b1a4da-049f-4dd2-8197-e368578554ea",
   "metadata": {},
   "source": [
    "## Loop"
   ]
  },
  {
   "cell_type": "code",
   "execution_count": 12,
   "id": "dc03c1fb-e5d5-49b7-b861-9f7e787bdd8f",
   "metadata": {},
   "outputs": [],
   "source": [
    "BALL_IS_THROWN = 0\n",
    "BALL_HIT_THE_PADDLE = 1\n",
    "BALL_HIT_THE_TABLE = 2"
   ]
  },
  {
   "cell_type": "code",
   "execution_count": 13,
   "id": "a454c89a-8dd3-4577-b9a8-2fedc670fb4b",
   "metadata": {},
   "outputs": [],
   "source": [
    "target_on_table = [0.2, 0.0] ## x, y position on the table where i want the ball to land"
   ]
  },
  {
   "cell_type": "code",
   "execution_count": 14,
   "id": "f48e7059-002c-4c00-9671-cd31a49d5f82",
   "metadata": {},
   "outputs": [],
   "source": [
    "ball_init_position_x_range = [-2, -1]\n",
    "ball_init_position_y_range = [-0.5, 0.5]\n",
    "ball_init_position_z_range = [1.5, 2.5]\n",
    "\n",
    "real_initial_velocity_x_range = [4, 8]\n",
    "real_initial_velocity_y_range = [-0.5, 0.5]\n",
    "real_initial_velocity_z_range = [-3, 1]"
   ]
  },
  {
   "cell_type": "code",
   "execution_count": 15,
   "id": "ab53246a-c95d-4a23-9713-18d58586cd8f",
   "metadata": {},
   "outputs": [],
   "source": [
    "def generate_random_inputs():\n",
    "    ball_init_position = [\n",
    "        random.uniform(*ball_init_position_x_range),\n",
    "        random.uniform(*ball_init_position_y_range),\n",
    "        random.uniform(*ball_init_position_z_range)\n",
    "    ]\n",
    "    real_initial_velocity = [\n",
    "        random.uniform(*real_initial_velocity_x_range),\n",
    "        random.uniform(*real_initial_velocity_y_range),\n",
    "        random.uniform(*real_initial_velocity_z_range)\n",
    "    ]\n",
    "    return ball_init_position, real_initial_velocity,"
   ]
  },
  {
   "cell_type": "code",
   "execution_count": 21,
   "id": "373bf8b3-cc25-4302-8da7-d6e961f34e7c",
   "metadata": {},
   "outputs": [
    {
     "name": "stdout",
     "output_type": "stream",
     "text": [
      "Now Running Episode: {episode}\n",
      "Now Running Episode: {episode}\n",
      "Now Running Episode: {episode}\n",
      "Now Running Episode: {episode}\n",
      "Now Running Episode: {episode}\n",
      "Now Running Episode: {episode}\n",
      "Now Running Episode: {episode}\n",
      "Now Running Episode: {episode}\n",
      "Now Running Episode: {episode}\n",
      "Now Running Episode: {episode}\n"
     ]
    }
   ],
   "source": [
    "table_id = p.createCollisionShape(p.GEOM_BOX, halfExtents=[5, 5, 0.5])\n",
    "def the_loop(ball_init_position = [-1.3, -0.2, 2.1], \n",
    "             real_initial_velocity = [7.0, -0.0, -2]):\n",
    "    \n",
    "    ##########################################################################################################################\n",
    "    ################################################### Throw the ball #######################################################\n",
    "    ##########################################################################################################################\n",
    "    env.get_new_ball(position=ball_init_position)\n",
    "    env.throw_ball(real_initial_velocity)\n",
    "    state = BALL_IS_THROWN\n",
    "    distance_ball_robot = p.getLinkState(env._robotic_arm, 0)[0][0] - ball_init_position[0]\n",
    "    table_hit_point = None\n",
    "    goal_position, estimated_init_vel = find_goal_position()## This goal position denotes the intercept point\n",
    "\n",
    "    \n",
    "    \n",
    "    ##########################################################################################################################\n",
    "    ####################################################### Hit the ball #####################################################\n",
    "    ##########################################################################################################################\n",
    "    if goal_position[1] > 1.5: ## If the z coordinate of the intercept point is below 1.5, the paddle will collide with the table\n",
    "        moveit_plugin.plan_motion(x = -0.5,\n",
    "                              y = goal_position[0],## This goal position denotes the intercept point\n",
    "                              z = goal_position[1] - 1.4,\n",
    "                              roll = 0,\n",
    "                              pitch = 0,\n",
    "                              yaw = np.pi/2)\n",
    "        moveit_plugin.execute_plan() ## Reached the intercept point\n",
    "        \n",
    "        for i in range(500):\n",
    "            if state == BALL_IS_THROWN and check_collision(env._ball, env._robotic_arm): ## Ensures that the ball hit the paddle\n",
    "                state = BALL_HIT_THE_PADDLE\n",
    "                print('ball has hit the paddle')  \n",
    "\n",
    "                \n",
    "                ### Now get the velocity prediction from the neural network\n",
    "                features = [\n",
    "                    ball_init_position[0], \n",
    "                    ball_init_position[1], \n",
    "                    ball_init_position[2],\n",
    "                    estimated_init_vel[0], \n",
    "                    estimated_init_vel[1], \n",
    "                    estimated_init_vel[2],\n",
    "                    distance_ball_robot,\n",
    "                    goal_position[0], ## This goal position denotes the intercept point\n",
    "                    goal_position[1],\n",
    "                ]\n",
    "\n",
    "                features = torch.tensor(features, dtype = torch.float32).unsqueeze(0)\n",
    "                hitting_model.train() ## model in training mode\n",
    "                optimizer.zero_grad()\n",
    "                paddle_hitting_vel = hitting_model(features).squeeze().tolist()\n",
    "                \n",
    "                ## These 15 steps will be used to execute the hitting velocity\n",
    "                for timer in range(15): \n",
    "                    p.setJointMotorControl2(bodyIndex=env._robotic_arm,\n",
    "                                            jointIndex=3,\n",
    "                                            controlMode=p.VELOCITY_CONTROL,\n",
    "                                            targetVelocity=paddle_hitting_vel[0],\n",
    "                                           )\n",
    "    \n",
    "                    p.setJointMotorControl2(bodyIndex=env._robotic_arm,\n",
    "                                            jointIndex=4,\n",
    "                                            controlMode=p.VELOCITY_CONTROL,\n",
    "                                            targetVelocity=paddle_hitting_vel[1],\n",
    "                                           )\n",
    "                    p.setJointMotorControl2(bodyIndex=env._robotic_arm,\n",
    "                                            jointIndex=5,\n",
    "                                            controlMode=p.VELOCITY_CONTROL,\n",
    "                                            targetVelocity=paddle_hitting_vel[2],\n",
    "                                           )\n",
    "                    time.sleep(1/240.0)\n",
    "                    p.stepSimulation()\n",
    "\n",
    "                ## After these 15 time steps, we can make the velocity of the paddle 0\n",
    "                p.setJointMotorControl2(bodyIndex=env._robotic_arm,\n",
    "                                            jointIndex=3,\n",
    "                                            controlMode=p.VELOCITY_CONTROL,\n",
    "                                            targetVelocity=0,\n",
    "                                           )\n",
    "                \n",
    "                p.setJointMotorControl2(bodyIndex=env._robotic_arm,\n",
    "                                            jointIndex=4,\n",
    "                                            controlMode=p.VELOCITY_CONTROL,\n",
    "                                            targetVelocity=0,\n",
    "                                           )\n",
    "                p.setJointMotorControl2(bodyIndex=env._robotic_arm,\n",
    "                                            jointIndex=5,\n",
    "                                            controlMode=p.VELOCITY_CONTROL,\n",
    "                                            targetVelocity=0,\n",
    "                                           )\n",
    "\n",
    "\n",
    "    ##########################################################################################################################\n",
    "    ############################################ Check if the ball hit the table #############################################\n",
    "    ##########################################################################################################################\n",
    "            if state == BALL_HIT_THE_PADDLE and check_collision(env._ball, env._table_body_id): # Ensures the sequence of events\n",
    "                table_hit_point = env.get_state()['ball']['position'] ## Location on hte table where the ball hit it\n",
    "                \n",
    "                # Ensure that table_hit_point is not None\n",
    "                table_hit_point_x, table_hit_point_y, table_hit_point_z = table_hit_point if table_hit_point else (None, None, None)\n",
    "                if table_hit_point:\n",
    "                    state = BALL_HIT_THE_TABLE\n",
    "                    print('ball has hit the table at: ', table_hit_point)\n",
    "                    landed_on_table_tensor = torch.tensor([table_hit_point_x, table_hit_point_y], dtype = torch.float32, requires_grad = True).unsqueeze(0)\n",
    "                    target_on_table_tensor = torch.tensor(target_on_table, dtype = torch.float32, requires_grad = True).unsqueeze(0)\n",
    "                    loss = criterion(landed_on_table_tensor, target_on_table_tensor)\n",
    "                    loss.backward()\n",
    "                    optimizer.step()\n",
    "                    print(f'loss in this episode: {loss:.4f}, landed on this episode: ({table_hit_point_x:.2f}, {table_hit_point_y:.2f}), target was: ({target_on_table[0]:.2f}, {target_on_table[1]:.2f})')\n",
    "            time.sleep(1/240.0)\n",
    "            p.stepSimulation()\n",
    "    return estimated_init_vel, goal_position, distance_ball_robot, table_hit_point\n",
    "\n",
    "num_episodes = 10\n",
    "for episode in range(num_episodes):\n",
    "    print(f'Now Running Episode: {episode}')\n",
    "    p.removeBody(env._table_body_id) # removing the old table\n",
    "    table_visual_id = -1\n",
    "    env._table_body_id = p.createMultiBody(baseMass=20000.0, baseCollisionShapeIndex=table_id, baseVisualShapeIndex=table_visual_id, basePosition=[0, 0, 0.7])\n",
    "    p.changeDynamics(env._table_body_id, -1, restitution=0.8, lateralFriction = 0.5)  # Adjust the restitution as needed (e.g., 0.8 for a good bounce)\n",
    "    p.removeBody(env._ball)\n",
    "    ball_init_position, real_initial_velocity = generate_random_inputs()\n",
    "    the_loop(ball_init_position=ball_init_position, \n",
    "             real_initial_velocity=real_initial_velocity)"
   ]
  },
  {
   "cell_type": "code",
   "execution_count": 19,
   "id": "bf880157-5006-402c-be95-36fa5c968779",
   "metadata": {},
   "outputs": [],
   "source": [
    "torch.save(hitting_model.state_dict(), 'hitting_planner.pth')"
   ]
  }
 ],
 "metadata": {
  "kernelspec": {
   "display_name": "Python 3 (ipykernel)",
   "language": "python",
   "name": "python3"
  },
  "language_info": {
   "codemirror_mode": {
    "name": "ipython",
    "version": 3
   },
   "file_extension": ".py",
   "mimetype": "text/x-python",
   "name": "python",
   "nbconvert_exporter": "python",
   "pygments_lexer": "ipython3",
   "version": "3.8.10"
  }
 },
 "nbformat": 4,
 "nbformat_minor": 5
}
